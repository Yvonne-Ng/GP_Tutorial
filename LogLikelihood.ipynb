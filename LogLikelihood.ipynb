{
 "cells": [
  {
   "cell_type": "code",
   "execution_count": 1,
   "metadata": {
    "collapsed": false,
    "deletable": true,
    "editable": true
   },
   "outputs": [
    {
     "name": "stderr",
     "output_type": "stream",
     "text": [
      "/Users/MeghanFrate/anaconda2/lib/python2.7/site-packages/matplotlib/font_manager.py:273: UserWarning: Matplotlib is building the font cache using fc-list. This may take a moment.\n",
      "  warnings.warn('Matplotlib is building the font cache using fc-list. This may take a moment.')\n"
     ]
    },
    {
     "name": "stdout",
     "output_type": "stream",
     "text": [
      "Populating the interactive namespace from numpy and matplotlib\n"
     ]
    }
   ],
   "source": [
    "%pylab inline --no-import-all\n",
    "import math\n",
    "import george\n",
    "import numpy as np\n",
    "import scipy.optimize as so\n",
    "import scipy.stats as ss\n",
    "import scipy.special as ssp\n",
    "import time\n",
    "from iminuit import Minuit\n",
    "import ROOT as r\n",
    "import matplotlib.ticker as ticker\n",
    "import matplotlib.cm as cmap\n",
    "from rootpy.plotting import Hist, Hist2D, Legend, Canvas\n",
    "import rootpy.plotting.root2matplotlib as rplt\n",
    "from george.kernels import ExpSquaredKernel"
   ]
  },
  {
   "cell_type": "markdown",
   "metadata": {},
   "source": [
    "### Load the data histogram: Saved as arrays in InitialFits"
   ]
  },
  {
   "cell_type": "code",
   "execution_count": 3,
   "metadata": {
    "collapsed": false
   },
   "outputs": [],
   "source": [
    "ycounts = np.load(\"ycounts.npy\")\n",
    "yerrs = np.load(\"yerrs.npy\")\n",
    "xbins = np.load(\"xbins.npy\")\n",
    "xerrs = np.load(\"xerrs.npy\")\n",
    "toyData = np.load(\"toys.npy\")\n",
    "fixedHyperparameters = np.load(\"fixedHyperparameters.npy\")\n",
    "\n",
    "standardParamSets = [(500, 3000, 250), (100, 3500, 250), (75, 4000, 250), \n",
    "             (50, 4500, 250), (35, 5000, 250), (20,5500, 250), (15, 6000,250)]"
   ]
  },
  {
   "cell_type": "markdown",
   "metadata": {},
   "source": [
    "### Useful functions"
   ]
  },
  {
   "cell_type": "markdown",
   "metadata": {},
   "source": [
    "#### Gausian function to use as a signal"
   ]
  },
  {
   "cell_type": "code",
   "execution_count": 4,
   "metadata": {
    "collapsed": false
   },
   "outputs": [],
   "source": [
    "def sig_model(x, N=1e5, mass=2000., width=100.):\n",
    "    return N*(np.exp(-(x-mass)**2/2/width/width)/np.sqrt(2*np.pi)/width)*np.append(np.diff(x),np.diff(x)[-1])"
   ]
  },
  {
   "cell_type": "markdown",
   "metadata": {},
   "source": [
    "#### Calculate the z-val and chi squared fit between data and fit. The signficance is plotted in the bottom panel of makePrettyPlots"
   ]
  },
  {
   "cell_type": "code",
   "execution_count": 5,
   "metadata": {
    "collapsed": true
   },
   "outputs": [],
   "source": [
    "def calcSignificance(Data, Bkg):\n",
    "    pvals = []\n",
    "    zvals = []\n",
    "    chi2 = 0\n",
    "    for i, nD in enumerate(Data):\n",
    "        nB = Bkg[i]\n",
    "        if nD != 0:\n",
    "            if nB > nD:\n",
    "                pval = 1.-ssp.gammainc(nD+1.,nB)\n",
    "            else:\n",
    "                pval = ssp.gammainc(nD,nB)\n",
    "            prob = 1-2*pval\n",
    "            if prob > -1 and prob < 1:\n",
    "                zval = math.sqrt(2.)*ssp.erfinv(prob)\n",
    "            else:\n",
    "                zval = np.inf\n",
    "            if zval > 100: zval = 20\n",
    "            if zval < 0: zval = 0\n",
    "            if (nD < nB): zval = -zval\n",
    "        else: zval = 0\n",
    "            \n",
    "        zvals.append(zval)\n",
    "        chi2 += ((nD - nB) ** 2 / abs(nB)) \n",
    "    return zvals, chi2"
   ]
  },
  {
   "cell_type": "markdown",
   "metadata": {},
   "source": [
    "#### Poisson likelihood"
   ]
  },
  {
   "cell_type": "code",
   "execution_count": 6,
   "metadata": {
    "collapsed": true
   },
   "outputs": [],
   "source": [
    "def simpleLogPoisson(x, par):\n",
    "    if x < 0: \n",
    "        return np.inf\n",
    "    elif (x == 0): return -1.*par\n",
    "    else:\n",
    "        lnpoisson = x*np.log(par)-par-ssp.gammaln(x+1.)\n",
    "        return lnpoisson"
   ]
  },
  {
   "cell_type": "markdown",
   "metadata": {},
   "source": [
    "#### Non central chi squared to fit to log likelihood ratio "
   ]
  },
  {
   "cell_type": "code",
   "execution_count": 7,
   "metadata": {
    "collapsed": true
   },
   "outputs": [],
   "source": [
    "def ncchi(x, nc):\n",
    "    return ss.ncx2.pdf(x, 1., nc) "
   ]
  },
  {
   "cell_type": "markdown",
   "metadata": {},
   "source": [
    "#### Distribution of log likelihood ratio. Can draw on a chi squared when looking at the ratio with no signal added (since we expect the distribution of our test statistic with one additional signal parameter to follow a chi squared), or you can fit for a non central chi squared when there is a signal added."
   ]
  },
  {
   "cell_type": "code",
   "execution_count": 8,
   "metadata": {
    "collapsed": true
   },
   "outputs": [],
   "source": [
    "def makePrettyPlots_LLH(GP_LLH, title, drawchi2=False, drawNCchi2=False, xname=r'$\\chi^{2}$'):\n",
    "    f, (ax1) = plt.subplots(1, figsize=(10,5))\n",
    "    f.suptitle(title, fontsize=20)\n",
    "\n",
    "    lowx = 0\n",
    "    highx = max(GP_LLH)+1\n",
    "    \n",
    "    bins = np.linspace(lowx, highx, 100)\n",
    "    dx = bins[1]-bins[0]\n",
    "    bin_centers = bins[:-1] + dx/2.\n",
    "    hGP, _, _ = ax1.hist(GP_LLH, bins=bins, color=\"b\")\n",
    "    #print hGP\n",
    "    ax1.tick_params(axis='y', labelsize=20)\n",
    "    ax1.tick_params(axis='x', labelsize=20)\n",
    "    #ax1.set_title(label, fontsize=20)\n",
    "    ax1.set_xlabel(xname, fontsize=20)\n",
    "    if drawchi2:\n",
    "        chi2_gp = sum(hGP)*(bins[1]-bins[0])*ss.chi2.pdf(bin_centers, 1.)\n",
    "        ax1.plot(bin_centers, chi2_gp, c='r', linewidth=2)\n",
    "    if drawNCchi2:\n",
    "        best_fit_params, _ = so.curve_fit(ncchi, bin_centers, hGP)\n",
    "        print \"nc \", best_fit_params\n",
    "        nc_chi = sum(hGP)*dx*ss.ncx2.pdf(bin_centers, 1., best_fit_params[0]) \n",
    "        ax1.plot(bin_centers, nc_chi, c='r', linewidth=3)\n",
    "    \n",
    "    plt.show()"
   ]
  },
  {
   "cell_type": "markdown",
   "metadata": {},
   "source": [
    "### Mean of the Gaussian Process - 3 parameter dijet fit function"
   ]
  },
  {
   "cell_type": "code",
   "execution_count": 9,
   "metadata": {
    "collapsed": true
   },
   "outputs": [],
   "source": [
    "from george.modeling import ModelingMixin\n",
    "class Mean(ModelingMixin):\n",
    "    def get_value(self, t):\n",
    "        sqrts = 13000.\n",
    "        return (self.p0 * (1.-t/sqrts)**self.p1 * (t/sqrts)**(self.p2))*np.append(np.diff(t), np.diff(t)[-1])"
   ]
  },
  {
   "cell_type": "markdown",
   "metadata": {},
   "source": [
    "### Log likelihood with a signal strength term added. The likelihood is a built in Gaussian likelihood in george. Then call minuit to minimize the likelihood. Minuit is only fitting for the signal strength parameter - all other hyperparameters (mean and kernel) are kept fixed from the initial GP fit to data"
   ]
  },
  {
   "cell_type": "code",
   "execution_count": 10,
   "metadata": {
    "collapsed": true
   },
   "outputs": [],
   "source": [
    "class logLike_gp:\n",
    "    def __init__(self, x, y, sigTemp):\n",
    "        self.x = x\n",
    "        self.y = y\n",
    "        self.sigTemp = sigTemp\n",
    "    def __call__(self, N):\n",
    "        Amp, length, p0, p1, p2 = fixedHyperparameters\n",
    "        kernel = Amp*ExpSquaredKernel(length)\n",
    "        gp = george.GP(kernel, mean=Mean(p0=p0, p1=p1, p2=p2), fit_mean = True)\n",
    "        try:\n",
    "            gp.compute(self.x, np.sqrt(self.y))\n",
    "            return -gp.lnlikelihood(self.y-N*self.sigTemp)\n",
    "        except:\n",
    "            return np.inf        \n",
    "        \n",
    "def fit_gp(lnprob, Print = True):\n",
    "    minLLH = np.inf\n",
    "    best_fit_params = (0)\n",
    "    passedFit = False\n",
    "    numRetries = 0\n",
    "    while not passedFit and numRetries < 5:\n",
    "        init0 = np.random.random() * 1.\n",
    "        m = Minuit(lnprob, throw_nan = False, pedantic = False, print_level = 0, \n",
    "                   N = init0, error_N = 1e-4, limit_N = (0, 100)) \n",
    "        fit = m.migrad()\n",
    "        if fit[0]['is_valid']: \n",
    "            passedFit=True\n",
    "        if m.fval < minLLH:\n",
    "            minLLH = m.fval\n",
    "            best_fit_params = m.args     \n",
    "            \n",
    "        if numRetries == 4: \n",
    "            print \"retry number = \", 5, \": failed fits\"\n",
    "            minLLH=np.inf\n",
    "            best_fit_params=(0)\n",
    "        numRetries+=1\n",
    "    if Print:\n",
    "        print \"min LL\", minLLH\n",
    "        print \"best fit vals\",best_fit_params\n",
    "    return minLLH, best_fit_params"
   ]
  },
  {
   "cell_type": "code",
   "execution_count": null,
   "metadata": {
    "collapsed": false
   },
   "outputs": [
    {
     "name": "stdout",
     "output_type": "stream",
     "text": [
      "(500, 3000, 250)\n",
      "0\n",
      "background only time: 0.00393795967102\n",
      "background only time: 0.00186109542847\n",
      "background + signal time: 0.0389518737793\n",
      "background + signal time: 0.0654299259186\n",
      "100\n",
      "200\n",
      "300\n",
      "400\n",
      "500\n",
      "600\n",
      "700\n",
      "800\n",
      "900\n",
      "(100, 3500, 250)\n",
      "0\n",
      "background only time: 0.00196290016174\n",
      "background only time: 0.00171399116516\n",
      "background + signal time: 0.0236308574677\n",
      "background + signal time: 0.055408000946\n",
      "100\n",
      "200\n",
      "300\n",
      "400\n",
      "500\n",
      "600\n",
      "700\n",
      "800\n",
      "900\n",
      "(75, 4000, 250)\n",
      "0\n",
      "background only time: 0.0023090839386\n",
      "background only time: 0.00207304954529\n",
      "background + signal time: 0.025593996048\n",
      "background + signal time: 0.0614349842072\n",
      "100\n",
      "200\n",
      "300\n",
      "400\n",
      "500\n",
      "600\n",
      "700\n",
      "800\n",
      "900\n",
      "(50, 4500, 250)\n",
      "0\n",
      "background only time: 0.00181698799133\n",
      "background only time: 0.0015549659729\n",
      "background + signal time: 0.0199229717255\n",
      "background + signal time: 0.062714099884\n",
      "100\n",
      "200\n",
      "300\n",
      "400\n",
      "500\n",
      "600\n",
      "700\n",
      "800\n",
      "900\n",
      "(35, 5000, 250)\n",
      "0\n",
      "background only time: 0.00180792808533\n",
      "background only time: 0.00153207778931\n",
      "background + signal time: 0.0264921188354\n",
      "background + signal time: 0.0750381946564\n",
      "100\n",
      "200\n",
      "300\n",
      "400\n",
      "500\n",
      "600\n",
      "700\n",
      "800\n",
      "900\n",
      "(20, 5500, 250)\n",
      "0\n",
      "background only time: 0.00189900398254\n",
      "background only time: 0.00155305862427\n",
      "background + signal time: 0.0302820205688\n",
      "background + signal time: 0.0626659393311\n",
      "100\n",
      "200\n",
      "300\n",
      "400\n",
      "500\n",
      "600\n",
      "700\n",
      "800\n",
      "900\n",
      "(15, 6000, 250)\n",
      "0\n",
      "background only time: 0.00247311592102\n",
      "background only time: 0.00217294692993\n",
      "background + signal time: 0.029589176178\n",
      "background + signal time: 0.0766530036926\n",
      "100\n",
      "200\n",
      "300\n",
      "400\n",
      "500\n",
      "600\n",
      "700\n",
      "800\n",
      "900\n",
      "took 0.127858113911hours\n"
     ]
    }
   ],
   "source": [
    "btime=time.time()\n",
    "\n",
    "LLHR_GP_noSignal={}\n",
    "LLHR_GP_withSignal={}\n",
    "for pSet in standardParamSets:\n",
    "    n, m, w = pSet\n",
    "    print pSet\n",
    "    LLHR_GP_noSignal[m]=[]\n",
    "    LLHR_GP_withSignal[m]=[]\n",
    "\n",
    "    for itoy, toy in enumerate(toyData):\n",
    "        if not itoy%100: \n",
    "            print itoy\n",
    "                \n",
    "        signalTemplate = np.random.poisson(np.round(sig_model(xbins, n, m, w)))\n",
    "        dataPlusSignal = ycounts+signalTemplate\n",
    "        Amp, length, p0, p1, p2 = fixedHyperparameters\n",
    "        kernel = Amp*ExpSquaredKernel(length)\n",
    "        \n",
    "        #############################################################################\n",
    "        #BACKGROUND ONLY FIT TO DATA ONLY\n",
    "        if itoy==0:\n",
    "            pgpb_stime = time.time()\n",
    "                \n",
    "        gp_bkg = george.GP(kernel, mean=Mean(p0=p0, p1=p1, p2=p2), fit_mean = True)\n",
    "        gp_bkg.compute(xbins, yerrs)\n",
    "        MAP_bkg, covGP_bkg = gp_bkg.predict(ycounts, xbins)\n",
    "        LLH_bkg = gp_bkg.lnlikelihood(ycounts)\n",
    "            \n",
    "        if itoy==0:\n",
    "            pgpb_etime = time.time()\n",
    "            print \"background only time:\", pgpb_etime-pgpb_stime\n",
    "        #############################################################################\n",
    "        #BACKGROUND ONLY FIT TO DATA+SIGNAL ONLY\n",
    "        if itoy==0:\n",
    "            pgpb_stime = time.time()\n",
    "                \n",
    "        gp_bkg_sd = george.GP(kernel, mean=Mean(p0=p0, p1=p1, p2=p2), fit_mean = True)\n",
    "        gp_bkg_sd.compute(xbins, yerrs)\n",
    "        MAP_bkg_sd, covGP_bkg_sd = gp_bkg_sd.predict(dataPlusSignal, xbins)\n",
    "        LLH_bkg_sd = gp_bkg_sd.lnlikelihood(dataPlusSignal)\n",
    "            \n",
    "        if itoy==0:\n",
    "            pgpb_etime = time.time()\n",
    "            print \"background only time:\", pgpb_etime-pgpb_stime\n",
    "        #############################################################################\n",
    "        \n",
    "\n",
    "        #############################################################################        \n",
    "        #BACKGROUND+SIGNAL FIT GP\n",
    "        if itoy==0:\n",
    "            pgpsb_stime = time.time()\n",
    "\n",
    "        lnProb = logLike_gp(xbins, ycounts, signalTemplate)\n",
    "        minLLH, best_fit_gp = fit_gp(lnProb, False)\n",
    "        if np.isinf(minLLH): continue\n",
    "        signal_strength = best_fit_gp[0]\n",
    "        gp_sigbkg = george.GP(kernel, mean=Mean(p0=p0, p1=p1, p2=p2), fit_mean = True)\n",
    "        gp_sigbkg.compute(xbins, yerrs)\n",
    "        MAP, covGP = gp_sigbkg.predict(ycounts - signal_strength*signalTemplate, xbins)\n",
    "        MAP_sigbkg = MAP+signal_strength*signalTemplate\n",
    "        LLH_sigbkg = gp_sigbkg.lnlikelihood(ycounts - signal_strength*signalTemplate)\n",
    "\n",
    "        if itoy==0:\n",
    "            pgpsb_etime = time.time()\n",
    "            print \"background + signal time:\", pgpsb_etime - pgpsb_stime\n",
    "        \n",
    "        LLHR_GP_noSignal[m].append(-2*(LLH_bkg-LLH_sigbkg))\n",
    "        #############################################################################    \n",
    "            \n",
    "        #BACKGROUND+SIGNAL FIT GP ON DATA+SIGNAL\n",
    "        if itoy==0:\n",
    "            pgpsb_sd_stime = time.time()\n",
    "\n",
    "        lnProb = logLike_gp(xbins, ycounts+signalTemplate, signalTemplate)\n",
    "        minLLH, best_fit_gp = fit_gp(lnProb, False)\n",
    "        if np.isinf(minLLH): continue\n",
    "        signal_strength_sd = best_fit_gp[0]\n",
    "        gp_sigbkg_sd = george.GP(kernel, mean=Mean(p0=p0, p1=p1, p2=p2), fit_mean = True)\n",
    "        gp_sigbkg_sd.compute(xbins, yerrs)\n",
    "        MAP, covGP = gp_sigbkg_sd.predict(ycounts+signalTemplate - signal_strength*signalTemplate, xbins)\n",
    "        MAP_sigbkg_sd = MAP+signal_strength*signalTemplate\n",
    "        LLH_sigbkg_sd = gp_sigbkg_sd.lnlikelihood(ycounts+signalTemplate - signal_strength*signalTemplate)\n",
    "\n",
    "        if itoy==0:\n",
    "            pgpsb_etime = time.time()\n",
    "            print \"background + signal time:\", pgpsb_etime - pgpsb_stime\n",
    "        \n",
    "        LLHR_GP_withSignal[m].append(-2*(LLH_bkg_sd-LLH_sigbkg_sd))\n",
    "\n",
    "\n",
    "etime = time.time()\n",
    "print \"took \"+str((etime-btime)/(60.*60.)) + \"hours\"  "
   ]
  },
  {
   "cell_type": "code",
   "execution_count": null,
   "metadata": {
    "collapsed": true
   },
   "outputs": [],
   "source": []
  },
  {
   "cell_type": "code",
   "execution_count": null,
   "metadata": {
    "collapsed": false
   },
   "outputs": [
    {
     "name": "stderr",
     "output_type": "stream",
     "text": [
      "/Users/MeghanFrate/anaconda2/lib/python2.7/site-packages/IPython/core/formatters.py:92: DeprecationWarning: DisplayFormatter._ipython_display_formatter_default is deprecated: use @default decorator instead.\n",
      "  def _ipython_display_formatter_default(self):\n",
      "/Users/MeghanFrate/anaconda2/lib/python2.7/site-packages/IPython/core/formatters.py:669: DeprecationWarning: PlainTextFormatter._singleton_printers_default is deprecated: use @default decorator instead.\n",
      "  def _singleton_printers_default(self):\n"
     ]
    },
    {
     "data": {
      "image/png": "[encoded data removed]",
      "text/plain": [
       "<matplotlib.figure.Figure at 0x11b9e1d10>"
      ]
     },
     "metadata": {},
     "output_type": "display_data"
    },
    {
     "name": "stdout",
     "output_type": "stream",
     "text": [
      "nc  [ 4.81678983]\n"
     ]
    }
   ],
   "source": [
    "GP_meanLLHR_noSignal=[]\n",
    "GP_meanLLHR_withSignal=[]\n",
    "msignals = [standardParamSets[i][1] for i in range(len(standardParamSets))]\n",
    "for m in msignals:\n",
    "    gp_LLH_noSignal = [ll for ll in LLHR_GP_noSignal[m] if not (np.isinf(ll) or np.isnan(ll))]\n",
    "    gp_LLH_withSignal = [ll for ll in LLHR_GP_withSignal[m] if not (np.isinf(ll) or np.isnan(ll))]\n",
    "    \n",
    "    \n",
    "    GP_meanLLHR_noSignal.append([np.median(np.array(gp_LLH_noSignal)), np.std(np.array(gp_LLH_noSignal))])\n",
    "    GP_meanLLHR_withSignal.append([np.median(np.array(gp_LLH_withSignal)), np.std(np.array(gp_LLH_withSignal))])\n",
    "\n",
    "    label = \"george LLHR no signal for mass \"+str(int(m))\n",
    "    makePrettyPlots_LLH(gp_LLH_noSignal, label, drawchi2=True, drawNCchi2=False, xname = r\"-2log($\\Lambda$)\")\n",
    "\n",
    "    label = \"george LLHR with signal for mass \"+str(int(m))\n",
    "    makePrettyPlots_LLH(gp_LLH_withSignal, label, drawchi2=False, drawNCchi2=True, xname = r\"-2log($\\Lambda$)\")\n",
    "\n"
   ]
  },
  {
   "cell_type": "code",
   "execution_count": null,
   "metadata": {
    "collapsed": true
   },
   "outputs": [],
   "source": []
  }
 ],
 "metadata": {
  "anaconda-cloud": {},
  "kernelspec": {
   "display_name": "Python [Root]",
   "language": "python",
   "name": "Python [Root]"
  },
  "language_info": {
   "codemirror_mode": {
    "name": "ipython",
    "version": 2
   },
   "file_extension": ".py",
   "mimetype": "text/x-python",
   "name": "python",
   "nbconvert_exporter": "python",
   "pygments_lexer": "ipython2",
   "version": "2.7.12"
  }
 },
 "nbformat": 4,
 "nbformat_minor": 0
}
