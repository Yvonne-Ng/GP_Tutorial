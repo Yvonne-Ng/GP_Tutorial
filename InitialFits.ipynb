{
 "cells": [
  {
   "cell_type": "code",
   "execution_count": 35,
   "metadata": {
    "collapsed": false,
    "deletable": true,
    "editable": true
   },
   "outputs": [
    {
     "name": "stdout",
     "output_type": "stream",
     "text": [
      "Populating the interactive namespace from numpy and matplotlib\n"
     ]
    }
   ],
   "source": [
    "%pylab inline --no-import-all\n",
    "import math\n",
    "import george\n",
    "import numpy as np\n",
    "import emcee\n",
    "\n",
    "import scipy.optimize as so\n",
    "import scipy.special as ssp\n",
    "import scipy.stats as ss\n",
    "\n",
    "from iminuit import Minuit\n",
    "import ROOT as r\n",
    "import matplotlib.ticker as ticker\n",
    "import matplotlib.cm as cmap\n",
    "from rootpy.plotting import Hist, Hist2D, Legend, Canvas\n",
    "import rootpy.plotting.root2matplotlib as rplt\n",
    "from george.kernels import ExpSquaredKernel"
   ]
  },
  {
   "cell_type": "markdown",
   "metadata": {},
   "source": [
    "### the kernel, or covariance structure, is what defines a Gaussian Process. \n",
    "### Initially, you'll start with a Exponential Squared kernel with a mean of a standard fit function used for the analysis. Having a mean function means you're modeling the fluctuations of your data around the fit function. The Gaussian Process is still flexible enough to fit the data even if the fit function doesn't fit the data well - i.e. you shouldn't need to spend time testing out different fit functions. As long as it describes the data fairly well, it should work. \n",
    "### The exponential squared kernel is a fairly basic kernel that says the covariance between points should die off as 1/(x1-x2)^2. Most kernels you'll want for your analysis will have this feature - the farther points are away from each other, the less they effect each other. \n",
    "### the hyperparameters of the kernel let you fine tune your kernel. For instance, the exponential squared kernel has a length scale hyperparameter l, which is related to the smoothness of your kernel. Too small, and the GP will be allowed to fluctuate on short length scales. Too large, and you smear out features you want to fit."
   ]
  },
  {
   "cell_type": "markdown",
   "metadata": {
    "deletable": true,
    "editable": true
   },
   "source": [
    "# Basics fits\n",
    "#### Fit GP to data or MC template"
   ]
  },
  {
   "cell_type": "markdown",
   "metadata": {},
   "source": [
    "### Some useful functions"
   ]
  },
  {
   "cell_type": "markdown",
   "metadata": {},
   "source": [
    "#### Calculate the z-val and chi squared fit between data and fit. The signficance is plotted in the bottom panel of makePrettyPlots"
   ]
  },
  {
   "cell_type": "code",
   "execution_count": 2,
   "metadata": {
    "collapsed": true
   },
   "outputs": [],
   "source": [
    "def calcSignificance(Data, Bkg):\n",
    "    pvals = []\n",
    "    zvals = []\n",
    "    chi2 = 0\n",
    "    for i, nD in enumerate(Data):\n",
    "        nB = Bkg[i]\n",
    "        if nD != 0:\n",
    "            if nB > nD:\n",
    "                pval = 1.-ssp.gammainc(nD+1.,nB)\n",
    "            else:\n",
    "                pval = ssp.gammainc(nD,nB)\n",
    "            prob = 1.-2.*pval\n",
    "            if prob > -1 and prob < 1:\n",
    "                zval = math.sqrt(2.)*ssp.erfinv(prob)\n",
    "            else:\n",
    "                zval = np.inf\n",
    "            if zval > 100: zval = 20\n",
    "            if zval < 0: zval = 0\n",
    "            if (nD < nB): zval = -zval\n",
    "        else: zval = 0\n",
    "            \n",
    "        zvals.append(zval)\n",
    "        chi2 += ((nD - nB) ** 2 / abs(nB)) \n",
    "    return zvals, chi2"
   ]
  },
  {
   "cell_type": "markdown",
   "metadata": {},
   "source": [
    "#### Make a pretty plot of fit overlaid on data in the top panel and the signficance plotted in the bottom panel"
   ]
  },
  {
   "cell_type": "code",
   "execution_count": 3,
   "metadata": {
    "collapsed": true
   },
   "outputs": [],
   "source": [
    "def makePrettyPlots(xs, ys, bkgs, title, col = 'g', ymax = 2e6):\n",
    "    f, (ax1, ax2) = plt.subplots(2, sharex=True, figsize=(12,12), gridspec_kw = {'height_ratios':[3, 1]})\n",
    "    f.suptitle(title, fontsize=30)\n",
    "    dataPlot = ax1.errorbar(xs, ys, marker='o', ls='None', yerr = np.sqrt(ys), c='black', markersize=10, label=\"data+signal\")\n",
    "    bkgPlot, =ax1.plot(xs, bkgs, color=col, linewidth=3.0, label=\"bkg only\")\n",
    "    ax1.legend()\n",
    "    ax1.set_ylabel('Events', fontsize=20)\n",
    "    ax1.tick_params(axis='y', labelsize=20)\n",
    "    ax1.set_yscale('log', nonposy=\"clip\")\n",
    "    ax1.set_xscale('log')\n",
    "    ax1.set_xlim([1000, 7500])\n",
    "    ax1.set_ylim([0.1, ymax])\n",
    "  \n",
    "    #bin by bin significance    \n",
    "    zvals, chi2 = calcSignificance(ys, bkgs)\n",
    "    print \"chi2\", chi2\n",
    "    h1 = Hist(binedges,markersize=0)\n",
    "    for x in range(len(zvals)):\n",
    "        if zvals[x] == np.inf or zvals[x] == -np.inf: h1[x] = 20\n",
    "        else: h1[x] = zvals[x]  \n",
    "    \n",
    "    h1.fillstyle = 'solid'\n",
    "    if col == 'g':\n",
    "         h1.fillcolor = 'green'\n",
    "    elif col == 'b':\n",
    "         h1.fillcolor = 'blue'\n",
    "    elif col == 'r':\n",
    "         h1.fillcolor = 'red'\n",
    "    else:\n",
    "        h1.fillcolor = 'black'\n",
    "    h1.linecolor = 'black'\n",
    "    h1.linewidth = 1\n",
    "    h1.Draw(\"histX0\")\n",
    "    rplt.bar(h1, xerr=None, yerr=None)\n",
    "    ax2.axhline(0, color='black', lw=1)\n",
    "    ax2.tick_params(axis='x', labelsize=20)\n",
    "    ax2.tick_params(axis='y', labelsize=20)\n",
    "    ax2.set_xlabel(r\"$m_{jj}$ [TeV]\", fontsize=30)\n",
    "    ax2.set_ylabel('Significance', fontsize=20)\n",
    "    ax2.set_xscale('log')\n",
    "    ax2.set_xlim([1000, 7500])\n",
    "    ax2.set_xticks([1000, 2000, 3000, 4000, 5000, 6000, 7000])\n",
    "    ax2.get_xaxis().set_major_formatter(matplotlib.ticker.ScalarFormatter())\n",
    "    minor_ticks = np.arange(1000, 7500, 100)\n",
    "    ax2.set_xticks(minor_ticks, minor=True)  \n",
    "    labels = [\"1\",\"2\",\"3\",\"4\",\"5\",\"6\",\"7\"]\n",
    "    ax2.set_xticklabels(labels)\n",
    "    ax2.set_ylim([-5, 5])\n",
    "    \n",
    "    f.subplots_adjust(hspace=0)\n",
    "    plt.setp([a.get_xticklabels() for a in f.axes[:-1]], visible=False)    \n",
    "    plt.show()\n",
    "\n"
   ]
  },
  {
   "cell_type": "markdown",
   "metadata": {
    "deletable": true,
    "editable": true
   },
   "source": [
    "#### grab your data or MC from root file and save points in arrays to be used in GP fit"
   ]
  },
  {
   "cell_type": "code",
   "execution_count": 4,
   "metadata": {
    "collapsed": false
   },
   "outputs": [],
   "source": [
    "ycounts = np.load(\"inputs/ycounts.npy\")\n",
    "yerrs = np.load(\"inputs/yerrs.npy\")\n",
    "\n",
    "xbins = np.load(\"inputs/xbins.npy\")\n",
    "xerrs = np.load(\"inputs/xerrs.npy\")\n",
    "binedges = list(np.load(\"inputs/binedges.npy\"))"
   ]
  },
  {
   "cell_type": "markdown",
   "metadata": {},
   "source": [
    "ycounts=[y if y!=0 else 0.01 for y in ycounts]\n",
    "print ycounts"
   ]
  },
  {
   "cell_type": "markdown",
   "metadata": {},
   "source": [
    "### To fit Gaussian Process, set up a negative log likelihood minimization "
   ]
  },
  {
   "cell_type": "markdown",
   "metadata": {},
   "source": [
    "#### We're going to use a fit function as the mean of our GP. Set up the 3 parameter dijet function here with george - get_value is what is called in george to calculate the mean"
   ]
  },
  {
   "cell_type": "code",
   "execution_count": 5,
   "metadata": {
    "collapsed": false
   },
   "outputs": [],
   "source": [
    "from george.modeling import ModelingMixin\n",
    "class Mean(ModelingMixin):\n",
    "    def get_value(self, t):\n",
    "        sqrts = 13000.\n",
    "        return (self.p0 * (1.-t/sqrts)**self.p1 * (t/sqrts)**(self.p2))*np.append(np.diff(t), np.diff(t)[-1])"
   ]
  },
  {
   "cell_type": "markdown",
   "metadata": {},
   "source": [
    "### Minimize using minuit"
   ]
  },
  {
   "cell_type": "markdown",
   "metadata": {},
   "source": [
    "#### Use the built in method from george to get the log likelihood. Create a loglikelihood class to pass to minuit.  Instead of a separate prior, I'm just putting bounds on parameters in minuit. \n",
    "#### A more robust way of running minuit is to run the minimization multiple times and keep track of the lowest log likelihood value and its corresponding parameters, in case minuit settles into some local minima. You can of course just run it once, and it will mostly produce good results, and speed things up signficantly. \n",
    "#### Names of the input parameters in minuit must be the same as in the likelihood class. Set up the intial parameters, step sizes for each parameter (error), and bounds on the parameters (limit).  "
   ]
  },
  {
   "cell_type": "code",
   "execution_count": 56,
   "metadata": {
    "collapsed": true
   },
   "outputs": [],
   "source": [
    "class logLike_minuit:\n",
    "    def __init__(self, x, y, xerr):\n",
    "        self.x = x\n",
    "        self.y = y\n",
    "        self.xerr = xerr\n",
    "    def __call__(self, Amp, length, p0, p1, p2):\n",
    "        kernel = Amp*ExpSquaredKernel(length)\n",
    "        gp = george.GP(kernel, mean=Mean(p0=p0, p1=p1, p2=p2), fit_mean = True)\n",
    "        gp.compute(self.x, np.sqrt(self.y))\n",
    "        return -gp.lnlikelihood(self.y)\n",
    "\n",
    "        \n",
    "def fit_gp_minuit(num, lnprob):\n",
    "    min_likelihood = np.inf\n",
    "    best_fit_params = (0, 0, 0, 0, 0)\n",
    "    for i in range(num):\n",
    "        init0 = np.random.random() * 100.\n",
    "        init1 = np.random.random() * 20.\n",
    "        init2 = np.random.random() * 1. \n",
    "        init3 = np.random.random() * 1.\n",
    "        init4 = np.random.random() * 1.\n",
    "        m = Minuit(lnprob, throw_nan = False, pedantic = False, print_level = 0, errordef = 0.5,\n",
    "                  Amp = init0, length = init1, \n",
    "                   p0 = init2, p1 = init3, p2 = init4,\n",
    "                   error_Amp = 1e1, error_length = 1e1,\n",
    "                   error_p0 = 1e-2, error_p1 = 1e-2, error_p2 = 1e-2,\n",
    "                  limit_Amp = (0.1, 1e10), limit_length = (100, 1e6), \n",
    "                   limit_p0 = (0,10), limit_p1 = (-20, 20), limit_p2 = (-20,20)) \n",
    "        m.migrad()\n",
    "        if m.fval < min_likelihood:\n",
    "            min_likelihood = m.fval\n",
    "            best_fit_params = m.args \n",
    "    print \"min LL\", min_likelihood\n",
    "    print \"best fit vals\", best_fit_params\n",
    "    return min_likelihood, best_fit_params"
   ]
  },
  {
   "cell_type": "markdown",
   "metadata": {},
   "source": [
    "#### To start with george, you must always intialize a george.GP object with a kernel. You can also add in a mean function as we've done here, but if one is not specified its set to 0. You can find more inforamtion about the different pre-made kernels, options for the GP object, mean functions, and how to build your own kernel at http://dan.iel.fm/george/current/.\n",
    "#### In our case, we want to use a fit function as our mean (otherwise the GP will be modeling fluctuations around 0!). We're using the 3 parameter dijet fit function. We also set the arguement fit_mean = True so that the mean function parameters will also be fit, along with the kernel hyperparameters\n",
    "#### Finally, you must always call gp.compute to precompute the covariance matrix at the independent coordinates before calling most other methods"
   ]
  },
  {
   "cell_type": "code",
   "execution_count": 7,
   "metadata": {
    "collapsed": true
   },
   "outputs": [],
   "source": [
    "p_init = [5, 1e3, 1e-1, 5, -5]\n",
    "Amp, length, p0, p1, p2 = p_init"
   ]
  },
  {
   "cell_type": "code",
   "execution_count": 8,
   "metadata": {
    "collapsed": false
   },
   "outputs": [],
   "source": [
    "kernel = Amp*ExpSquaredKernel(length)\n",
    "gp = george.GP(kernel, mean=Mean(p0=p0, p1=p1, p2=p2), fit_mean = True)\n",
    "gp.compute(xbins, yerrs)"
   ]
  },
  {
   "cell_type": "markdown",
   "metadata": {},
   "source": [
    "#### Call your minuit minimzation"
   ]
  },
  {
   "cell_type": "code",
   "execution_count": 9,
   "metadata": {
    "collapsed": false
   },
   "outputs": [
    {
     "name": "stdout",
     "output_type": "stream",
     "text": [
      "min LL 345.907194785\n",
      "best fit vals (2.363343956676171, 380129.71104491345, 0.041269322713771706, 8.423930910255525, -5.210353066774809)\n"
     ]
    }
   ],
   "source": [
    "lnProb = logLike_minuit(xbins, ycounts, xerrs)\n",
    "min_likelihood, best_fit_gp = fit_gp_minuit(100, lnProb)\n",
    "Amp, length, p0, p1, p2 = best_fit_gp\n",
    "\n",
    "np.save(\"fixedHyperparameters.npy\",best_fit_gp)"
   ]
  },
  {
   "cell_type": "markdown",
   "metadata": {},
   "source": [
    "#### Finally, call predict to get the mean and variance of the predictive distribution. This is what we use as our GP fit. "
   ]
  },
  {
   "cell_type": "code",
   "execution_count": 10,
   "metadata": {
    "collapsed": false
   },
   "outputs": [],
   "source": [
    "Amp, length, p0, p1, p2 = best_fit_gp\n",
    "kernel = Amp*ExpSquaredKernel(length)\n",
    "gp = george.GP(kernel, mean=Mean(p0=p0, p1=p1, p2=p2), fit_mean = True)\n",
    "gp.compute(xbins, yerrs)\n",
    "\n",
    "meanGP, covGP = gp.predict(ycounts, xbins)"
   ]
  },
  {
   "cell_type": "markdown",
   "metadata": {},
   "source": [
    "#### And make the pretty plot"
   ]
  },
  {
   "cell_type": "code",
   "execution_count": 11,
   "metadata": {
    "collapsed": false
   },
   "outputs": [
    {
     "name": "stdout",
     "output_type": "stream",
     "text": [
      "chi2 2950.95863742\n"
     ]
    },
    {
     "name": "stderr",
     "output_type": "stream",
     "text": [
      "/Users/MeghanFrate/anaconda2/lib/python2.7/site-packages/IPython/core/formatters.py:92: DeprecationWarning: DisplayFormatter._ipython_display_formatter_default is deprecated: use @default decorator instead.\n",
      "  def _ipython_display_formatter_default(self):\n",
      "/Users/MeghanFrate/anaconda2/lib/python2.7/site-packages/IPython/core/formatters.py:669: DeprecationWarning: PlainTextFormatter._singleton_printers_default is deprecated: use @default decorator instead.\n",
      "  def _singleton_printers_default(self):\n"
     ]
    },
    {
     "data": {
      "image/png": "[encoded data removed]",
      "text/plain": [
       "<matplotlib.figure.Figure at 0x1100e5850>"
      ]
     },
     "metadata": {},
     "output_type": "display_data"
    }
   ],
   "source": [
    "makePrettyPlots(xbins, ycounts, meanGP, \"Gaussian Process Fit\")"
   ]
  },
  {
   "cell_type": "markdown",
   "metadata": {},
   "source": [
    "### Lets look at some samples from the posterior"
   ]
  },
  {
   "cell_type": "markdown",
   "metadata": {},
   "source": [
    "#### First, something to make the plot look pretty and plot all those samples"
   ]
  },
  {
   "cell_type": "code",
   "execution_count": 12,
   "metadata": {
    "collapsed": true
   },
   "outputs": [],
   "source": [
    "def makePrettyPlots_samples(xs, ys, bkgFits, title, ymax = 1e6):\n",
    "    f, ax1 = plt.subplots(1, sharex=True, figsize=(10,7))\n",
    "    f.suptitle(title, fontsize=30)\n",
    "    dataPlot = ax1.errorbar(xs, ys, marker='o', ls='None', yerr = np.sqrt(ys), c='black', markersize=10, label=\"data\")\n",
    "    for ik, bkg in enumerate(bkgFits):\n",
    "        if ik == 0:\n",
    "            bkgPlot, =ax1.plot(xs, bkg, color=\"b\", alpha=0.3, linewidth=1.0, label=\"Posterior samples\")\n",
    "        else:\n",
    "            bkgPlot =ax1.plot(xs, bkg, color=\"b\", alpha=0.3, linewidth=1.0)\n",
    "    ax1.legend()\n",
    "    ax1.set_ylabel('Events', fontsize=20)\n",
    "    ax1.tick_params(axis='y', labelsize=20)\n",
    "    ax1.set_yscale('log', nonposy=\"clip\")\n",
    "    ax1.set_xscale('log')\n",
    "    ax1.set_xlim([1000, 7500])\n",
    "    ax1.set_ylim([0.1, ymax])\n",
    "\n",
    "\n",
    "    ax1.tick_params(axis='x', labelsize=20)\n",
    "    ax1.tick_params(axis='y', labelsize=20)\n",
    "    ax1.set_xlabel(r\"$m_{jj}$ [TeV]\", fontsize=30)\n",
    "\n",
    "    ax1.set_xlim([1000, 7500])\n",
    "    ax1.set_xticks([1000, 2000, 3000, 4000, 5000, 6000, 7000])\n",
    "    ax1.get_xaxis().set_major_formatter(matplotlib.ticker.ScalarFormatter())\n",
    "    minor_ticks = np.arange(1000, 7500, 100)\n",
    "    ax1.set_xticks(minor_ticks, minor=True)  \n",
    "    labels = [\"1\",\"2\",\"3\",\"4\",\"5\",\"6\",\"7\"]\n",
    "    ax1.set_xticklabels(labels)\n",
    "    \n",
    "    f.subplots_adjust(hspace=0)\n",
    "    plt.setp([a.get_xticklabels() for a in f.axes[:-1]], visible=False)    \n",
    "    plt.show()"
   ]
  },
  {
   "cell_type": "markdown",
   "metadata": {},
   "source": [
    "#### sample_conditional samples the predictive distribution (the same as the mean from above), where the 3rd arguement is the number of samples you want"
   ]
  },
  {
   "cell_type": "code",
   "execution_count": 40,
   "metadata": {
    "collapsed": false
   },
   "outputs": [
    {
     "data": {
      "image/png": "[encoded data removed]",
      "text/plain": [
       "<matplotlib.figure.Figure at 0x122c2e7d0>"
      ]
     },
     "metadata": {},
     "output_type": "display_data"
    }
   ],
   "source": [
    "samps = gp.sample_conditional(ycounts, xbins, 1000)\n",
    "makePrettyPlots_samples(xbins, ycounts, samps, \"posterior samples\")"
   ]
  },
  {
   "cell_type": "code",
   "execution_count": 42,
   "metadata": {
    "collapsed": true
   },
   "outputs": [],
   "source": [
    "def draw_pulls(pulls):\n",
    "    plt.figure()\n",
    "    bins=np.linspace(-2,2,50)\n",
    "\n",
    "    pull_mean = np.mean(pulls)\n",
    "    pull_std = np.std(pulls)\n",
    "\n",
    "    n,_,_=plt.hist(pulls, bins=bins, normed=True)\n",
    "    plt.plot(bins, ss.norm.pdf(bins, pull_mean, pull_std), c='black', linewidth='3', label=\"N({:.1f}, {:.1f})\".format(pull_mean, pull_std))\n",
    "    plt.plot(bins, ss.norm.pdf(bins, 0,1), c='r', linewidth='3', label=\"N(0,1)\")\n",
    "    print(pull_mean, pull_std)\n",
    "\n",
    "    plt.xlabel(\"(GP-Smeared)/GP Uncertainty\", fontsize=20)\n",
    "   # plt.title(\"Kernel Amplitude = \"+str(amp_scale), fontsize=20)\n",
    "    plt.tick_params(axis='y', labelsize=20)\n",
    "    plt.tick_params(axis='x', labelsize=20)\n",
    "    plt.legend()\n",
    "    \n"
   ]
  },
  {
   "cell_type": "code",
   "execution_count": 47,
   "metadata": {
    "collapsed": false
   },
   "outputs": [
    {
     "name": "stdout",
     "output_type": "stream",
     "text": [
      "(0.020711251916335958, 1.0005256641602462)\n"
     ]
    },
    {
     "data": {
      "image/png": "[encoded data removed]",
      "text/plain": [
       "<matplotlib.figure.Figure at 0x12270c590>"
      ]
     },
     "metadata": {},
     "output_type": "display_data"
    }
   ],
   "source": [
    "pull=[]\n",
    "for s in samps:\n",
    "    #p=np.random.poisson(abs(s[:-10]))\n",
    "    p = s\n",
    "    pull+=list((p-meanGP)/np.sqrt(np.diag(covGP)))\n",
    "draw_pulls(pull)    "
   ]
  },
  {
   "cell_type": "code",
   "execution_count": null,
   "metadata": {
    "collapsed": true
   },
   "outputs": [],
   "source": [
    "########################################################################IGNORE FOR NOW##########"
   ]
  },
  {
   "cell_type": "code",
   "execution_count": 49,
   "metadata": {
    "collapsed": true
   },
   "outputs": [],
   "source": [
    "def makeToys(dataset, nPseudo=1000, lumi = 1.):\n",
    "    toys = []\n",
    "    for n in range(nPseudo):\n",
    "        pseudo = np.random.poisson(dataset*lumi)\n",
    "        toys.append(pseudo)\n",
    "    return toys"
   ]
  },
  {
   "cell_type": "code",
   "execution_count": 53,
   "metadata": {
    "collapsed": true
   },
   "outputs": [],
   "source": [
    "def model_5param(t): \n",
    "    #because I already fit the 13TeV 3.6 fb-1 dijet dataset and here were the parameters\n",
    "    p0, p1, p2, p3, p4 = (0.25, 9.8, -3.5, 0.61, 0.078)\n",
    "    sqrts = 13000.\n",
    "    return (p0 * ((1.-t/sqrts)**p1) * (t/sqrts)**(p2+p3*np.log(t/sqrts)+p4*np.log(t/sqrts)**2))*np.append(np.diff(t), np.diff(t)[-1])"
   ]
  },
  {
   "cell_type": "code",
   "execution_count": 57,
   "metadata": {
    "collapsed": false
   },
   "outputs": [
    {
     "name": "stdout",
     "output_type": "stream",
     "text": [
      "min LL 346.748628465\n",
      "best fit vals (0.32982393765628154, 389390.5337273585, 0.04529583010458471, 8.682827466832236, -5.1823706526921125)\n",
      "min LL 346.680500218\n",
      "best fit vals (0.4111677582237041, 567911.8383048499, 0.03978368567188528, 8.33044631127575, -5.221803745612302)\n",
      "min LL 331.17386164\n",
      "best fit vals (1.7578116657062968, 396037.2254825502, 0.03636579911951321, 8.194934484980635, -5.254828332616675)\n",
      "min LL 330.259989392\n",
      "best fit vals (1.3138667848538748, 357823.1800683972, 0.039471423594585886, 8.374722685615929, -5.227485852181511)\n",
      "min LL 347.172850718\n",
      "best fit vals (0.4403660686595414, 440748.0403914837, 0.04562706158275864, 8.704738618669975, -5.179458555178712)\n",
      "min LL 325.516149633\n",
      "best fit vals (1.3167283846998175, 532423.6007705546, 0.03970239293239419, 8.366732182989548, -5.224446337486867)\n",
      "min LL 338.02675472\n",
      "best fit vals (4.815888235426483, 506025.964395584, 0.042670013728862144, 8.546958550249606, -5.201162560574062)\n",
      "min LL 330.830849244\n",
      "best fit vals (0.46091962751422133, 314756.20316880516, 0.0385947671963921, 8.337185532505437, -5.234629419380104)\n",
      "min LL 327.915904501\n",
      "best fit vals (1.9404483492589193, 506065.2225363227, 0.04021555101389185, 8.406245388740473, -5.2208528832710535)\n",
      "min LL 334.892065446\n",
      "best fit vals (0.3543337762591737, 456327.35258237727, 0.03885126634295022, 8.330116977770814, -5.232631552649281)\n",
      "min LL 328.129979487\n",
      "best fit vals (0.6305322847650966, 332944.1168841649, 0.03786836439486574, 8.274400207441456, -5.24083985381672)\n",
      "min LL 334.005703716\n",
      "best fit vals (0.5777783724160229, 349709.0833756915, 0.042040429649573, 8.501970535921224, -5.205710413917624)\n",
      "min LL 344.583176106\n",
      "best fit vals (1.9347495744735754, 417815.2453524647, 0.03618382232856154, 8.199530308889805, -5.256964586371451)\n",
      "min LL 333.139227449\n",
      "best fit vals (0.9378997495755467, 627898.2032883988, 0.03978601047195496, 8.403392190055921, -5.225324269919515)\n",
      "min LL 350.145766229\n",
      "best fit vals (1.7652645928705308, 999999.9755228574, 0.03702171861811432, 8.252517180314818, -5.24991501290582)\n",
      "min LL 327.216214288\n",
      "best fit vals (0.730905327974404, 398552.58382276807, 0.04025452455822365, 8.422135014563871, -5.2207613427689346)\n",
      "min LL 362.732642665\n",
      "best fit vals (1.1686684870257749, 265697.8884721827, 0.040699024300842046, 8.474726821571757, -5.218248075721748)\n",
      "min LL 331.227936821\n",
      "best fit vals (2.103281984721501, 663855.8863363602, 0.03864611193117928, 8.308341639495936, -5.233628464627362)\n",
      "min LL 345.392330381\n",
      "best fit vals (1.0483763774203545, 622815.4913877684, 0.03665604550041335, 8.232880479889225, -5.2534958015280395)\n",
      "min LL 340.004036547\n",
      "best fit vals (2.303549565016507, 853595.8331765294, 0.03665150940529771, 8.213090345199099, -5.25206778788149)\n",
      "min LL 342.982587109\n",
      "best fit vals (1.057218748699893, 263099.55892651534, 0.040822046473843465, 8.431763446091605, -5.215511780006544)\n",
      "min LL 338.162259927\n",
      "best fit vals (1.0593525973532012, 364959.67279558006, 0.04471885355126326, 8.640500691964611, -5.185561702744593)\n",
      "min LL 344.926201289\n",
      "best fit vals (0.32868207327546595, 403856.8600551314, 0.04022205242983745, 8.394548167597705, -5.220057106851252)\n",
      "min LL 350.284928532\n",
      "best fit vals (1.4959616795704858, 495917.55967043486, 0.036764520074540896, 8.185001463145639, -5.249083453600241)\n",
      "min LL 334.068318529\n",
      "best fit vals (0.5482908488822736, 575610.3024678471, 0.03843289488845547, 8.301328345031468, -5.2359558565432565)\n"
     ]
    },
    {
     "name": "stderr",
     "output_type": "stream",
     "text": [
      "/Users/MeghanFrate/anaconda2/lib/python2.7/site-packages/ipykernel/__main__.py:29: RuntimeWarning: Exception Occured \n",
      "fcn is called with following arguments:\n",
      "       Amp = +5414248032.000951\n",
      "    length = +996197.989959\n",
      "        p0 = +3.940027\n",
      "        p1 = +19.758716\n",
      "        p2 = -19.981625\n",
      "\n"
     ]
    },
    {
     "ename": "LinAlgError",
     "evalue": "81-th leading minor not positive definite",
     "output_type": "error",
     "traceback": [
      "\u001b[0;31m---------------------------------------------------------------------------\u001b[0m",
      "\u001b[0;31mLinAlgError\u001b[0m                               Traceback (most recent call last)",
      "\u001b[0;32m<ipython-input-57-6a2d00b8a637>\u001b[0m in \u001b[0;36m<module>\u001b[0;34m()\u001b[0m\n\u001b[1;32m      4\u001b[0m \u001b[0;32mfor\u001b[0m \u001b[0mtoy\u001b[0m \u001b[0;32min\u001b[0m \u001b[0mtoys\u001b[0m\u001b[0;34m[\u001b[0m\u001b[0;34m:\u001b[0m\u001b[0;36m100\u001b[0m\u001b[0;34m]\u001b[0m\u001b[0;34m:\u001b[0m\u001b[0;34m\u001b[0m\u001b[0m\n\u001b[1;32m      5\u001b[0m     \u001b[0mlnProb\u001b[0m \u001b[0;34m=\u001b[0m \u001b[0mlogLike_minuit\u001b[0m\u001b[0;34m(\u001b[0m\u001b[0mxbins\u001b[0m\u001b[0;34m,\u001b[0m \u001b[0mtoy\u001b[0m\u001b[0;34m,\u001b[0m \u001b[0mxerrs\u001b[0m\u001b[0;34m)\u001b[0m\u001b[0;34m\u001b[0m\u001b[0m\n\u001b[0;32m----> 6\u001b[0;31m     \u001b[0mmin_likelihood\u001b[0m\u001b[0;34m,\u001b[0m \u001b[0mbest_fit_gp\u001b[0m \u001b[0;34m=\u001b[0m \u001b[0mfit_gp_minuit\u001b[0m\u001b[0;34m(\u001b[0m\u001b[0;36m100\u001b[0m\u001b[0;34m,\u001b[0m \u001b[0mlnProb\u001b[0m\u001b[0;34m)\u001b[0m\u001b[0;34m\u001b[0m\u001b[0m\n\u001b[0m\u001b[1;32m      7\u001b[0m     \u001b[0mAmp\u001b[0m\u001b[0;34m,\u001b[0m \u001b[0mlength\u001b[0m\u001b[0;34m,\u001b[0m \u001b[0mp0\u001b[0m\u001b[0;34m,\u001b[0m \u001b[0mp1\u001b[0m\u001b[0;34m,\u001b[0m \u001b[0mp2\u001b[0m \u001b[0;34m=\u001b[0m \u001b[0mbest_fit_gp\u001b[0m\u001b[0;34m\u001b[0m\u001b[0m\n\u001b[1;32m      8\u001b[0m     \u001b[0mkernel\u001b[0m \u001b[0;34m=\u001b[0m \u001b[0mAmp\u001b[0m\u001b[0;34m*\u001b[0m\u001b[0mExpSquaredKernel\u001b[0m\u001b[0;34m(\u001b[0m\u001b[0mlength\u001b[0m\u001b[0;34m)\u001b[0m\u001b[0;34m\u001b[0m\u001b[0m\n",
      "\u001b[0;32m<ipython-input-56-f3c702987d29>\u001b[0m in \u001b[0;36mfit_gp_minuit\u001b[0;34m(num, lnprob)\u001b[0m\n\u001b[1;32m     27\u001b[0m                   \u001b[0mlimit_Amp\u001b[0m \u001b[0;34m=\u001b[0m \u001b[0;34m(\u001b[0m\u001b[0;36m0.1\u001b[0m\u001b[0;34m,\u001b[0m \u001b[0;36m1e10\u001b[0m\u001b[0;34m)\u001b[0m\u001b[0;34m,\u001b[0m \u001b[0mlimit_length\u001b[0m \u001b[0;34m=\u001b[0m \u001b[0;34m(\u001b[0m\u001b[0;36m100\u001b[0m\u001b[0;34m,\u001b[0m \u001b[0;36m1e6\u001b[0m\u001b[0;34m)\u001b[0m\u001b[0;34m,\u001b[0m\u001b[0;34m\u001b[0m\u001b[0m\n\u001b[1;32m     28\u001b[0m                    limit_p0 = (0,10), limit_p1 = (-20, 20), limit_p2 = (-20,20)) \n\u001b[0;32m---> 29\u001b[0;31m         \u001b[0mm\u001b[0m\u001b[0;34m.\u001b[0m\u001b[0mmigrad\u001b[0m\u001b[0;34m(\u001b[0m\u001b[0;34m)\u001b[0m\u001b[0;34m\u001b[0m\u001b[0m\n\u001b[0m\u001b[1;32m     30\u001b[0m         \u001b[0;32mif\u001b[0m \u001b[0mm\u001b[0m\u001b[0;34m.\u001b[0m\u001b[0mfval\u001b[0m \u001b[0;34m<\u001b[0m \u001b[0mmin_likelihood\u001b[0m\u001b[0;34m:\u001b[0m\u001b[0;34m\u001b[0m\u001b[0m\n\u001b[1;32m     31\u001b[0m             \u001b[0mmin_likelihood\u001b[0m \u001b[0;34m=\u001b[0m \u001b[0mm\u001b[0m\u001b[0;34m.\u001b[0m\u001b[0mfval\u001b[0m\u001b[0;34m\u001b[0m\u001b[0m\n",
      "\u001b[0;32miminuit/_libiminuit.pyx\u001b[0m in \u001b[0;36miminuit._libiminuit.Minuit.migrad (iminuit/_libiminuit.cpp:5293)\u001b[0;34m()\u001b[0m\n",
      "\u001b[0;32m<ipython-input-56-f3c702987d29>\u001b[0m in \u001b[0;36m__call__\u001b[0;34m(self, Amp, length, p0, p1, p2)\u001b[0m\n\u001b[1;32m      7\u001b[0m         \u001b[0mkernel\u001b[0m \u001b[0;34m=\u001b[0m \u001b[0mAmp\u001b[0m\u001b[0;34m*\u001b[0m\u001b[0mExpSquaredKernel\u001b[0m\u001b[0;34m(\u001b[0m\u001b[0mlength\u001b[0m\u001b[0;34m)\u001b[0m\u001b[0;34m\u001b[0m\u001b[0m\n\u001b[1;32m      8\u001b[0m         \u001b[0mgp\u001b[0m \u001b[0;34m=\u001b[0m \u001b[0mgeorge\u001b[0m\u001b[0;34m.\u001b[0m\u001b[0mGP\u001b[0m\u001b[0;34m(\u001b[0m\u001b[0mkernel\u001b[0m\u001b[0;34m,\u001b[0m \u001b[0mmean\u001b[0m\u001b[0;34m=\u001b[0m\u001b[0mMean\u001b[0m\u001b[0;34m(\u001b[0m\u001b[0mp0\u001b[0m\u001b[0;34m=\u001b[0m\u001b[0mp0\u001b[0m\u001b[0;34m,\u001b[0m \u001b[0mp1\u001b[0m\u001b[0;34m=\u001b[0m\u001b[0mp1\u001b[0m\u001b[0;34m,\u001b[0m \u001b[0mp2\u001b[0m\u001b[0;34m=\u001b[0m\u001b[0mp2\u001b[0m\u001b[0;34m)\u001b[0m\u001b[0;34m,\u001b[0m \u001b[0mfit_mean\u001b[0m \u001b[0;34m=\u001b[0m \u001b[0mTrue\u001b[0m\u001b[0;34m)\u001b[0m\u001b[0;34m\u001b[0m\u001b[0m\n\u001b[0;32m----> 9\u001b[0;31m         \u001b[0mgp\u001b[0m\u001b[0;34m.\u001b[0m\u001b[0mcompute\u001b[0m\u001b[0;34m(\u001b[0m\u001b[0mself\u001b[0m\u001b[0;34m.\u001b[0m\u001b[0mx\u001b[0m\u001b[0;34m,\u001b[0m \u001b[0mnp\u001b[0m\u001b[0;34m.\u001b[0m\u001b[0msqrt\u001b[0m\u001b[0;34m(\u001b[0m\u001b[0mself\u001b[0m\u001b[0;34m.\u001b[0m\u001b[0my\u001b[0m\u001b[0;34m)\u001b[0m\u001b[0;34m)\u001b[0m\u001b[0;34m\u001b[0m\u001b[0m\n\u001b[0m\u001b[1;32m     10\u001b[0m         \u001b[0;32mreturn\u001b[0m \u001b[0;34m-\u001b[0m\u001b[0mgp\u001b[0m\u001b[0;34m.\u001b[0m\u001b[0mlnlikelihood\u001b[0m\u001b[0;34m(\u001b[0m\u001b[0mself\u001b[0m\u001b[0;34m.\u001b[0m\u001b[0my\u001b[0m\u001b[0;34m)\u001b[0m\u001b[0;34m\u001b[0m\u001b[0m\n\u001b[1;32m     11\u001b[0m \u001b[0;34m\u001b[0m\u001b[0m\n",
      "\u001b[0;32m/Users/MeghanFrate/anaconda2/lib/python2.7/site-packages/george-1.0.0.dev0-py2.7-macosx-10.6-x86_64.egg/george/gp.pyc\u001b[0m in \u001b[0;36mcompute\u001b[0;34m(self, x, yerr, sort, **kwargs)\u001b[0m\n\u001b[1;32m    333\u001b[0m         \u001b[0;31m# Include the white noise term.\u001b[0m\u001b[0;34m\u001b[0m\u001b[0;34m\u001b[0m\u001b[0m\n\u001b[1;32m    334\u001b[0m         \u001b[0myerr\u001b[0m \u001b[0;34m=\u001b[0m \u001b[0mnp\u001b[0m\u001b[0;34m.\u001b[0m\u001b[0msqrt\u001b[0m\u001b[0;34m(\u001b[0m\u001b[0mself\u001b[0m\u001b[0;34m.\u001b[0m\u001b[0m_yerr2\u001b[0m \u001b[0;34m+\u001b[0m \u001b[0mnp\u001b[0m\u001b[0;34m.\u001b[0m\u001b[0mexp\u001b[0m\u001b[0;34m(\u001b[0m\u001b[0mself\u001b[0m\u001b[0;34m.\u001b[0m\u001b[0m_call_white_noise\u001b[0m\u001b[0;34m(\u001b[0m\u001b[0mself\u001b[0m\u001b[0;34m.\u001b[0m\u001b[0m_x\u001b[0m\u001b[0;34m)\u001b[0m\u001b[0;34m)\u001b[0m\u001b[0;34m)\u001b[0m\u001b[0;34m\u001b[0m\u001b[0m\n\u001b[0;32m--> 335\u001b[0;31m         \u001b[0mself\u001b[0m\u001b[0;34m.\u001b[0m\u001b[0msolver\u001b[0m\u001b[0;34m.\u001b[0m\u001b[0mcompute\u001b[0m\u001b[0;34m(\u001b[0m\u001b[0mself\u001b[0m\u001b[0;34m.\u001b[0m\u001b[0m_x\u001b[0m\u001b[0;34m,\u001b[0m \u001b[0myerr\u001b[0m\u001b[0;34m,\u001b[0m \u001b[0;34m**\u001b[0m\u001b[0mkwargs\u001b[0m\u001b[0;34m)\u001b[0m\u001b[0;34m\u001b[0m\u001b[0m\n\u001b[0m\u001b[1;32m    336\u001b[0m \u001b[0;34m\u001b[0m\u001b[0m\n\u001b[1;32m    337\u001b[0m         self._const = -0.5 * (len(self._x) * np.log(2 * np.pi)\n",
      "\u001b[0;32m/Users/MeghanFrate/anaconda2/lib/python2.7/site-packages/george-1.0.0.dev0-py2.7-macosx-10.6-x86_64.egg/george/solvers/basic.pyc\u001b[0m in \u001b[0;36mcompute\u001b[0;34m(self, x, yerr)\u001b[0m\n\u001b[1;32m     67\u001b[0m \u001b[0;34m\u001b[0m\u001b[0m\n\u001b[1;32m     68\u001b[0m         \u001b[0;31m# Factor the matrix and compute the log-determinant.\u001b[0m\u001b[0;34m\u001b[0m\u001b[0;34m\u001b[0m\u001b[0m\n\u001b[0;32m---> 69\u001b[0;31m         \u001b[0mself\u001b[0m\u001b[0;34m.\u001b[0m\u001b[0m_factor\u001b[0m \u001b[0;34m=\u001b[0m \u001b[0;34m(\u001b[0m\u001b[0mcholesky\u001b[0m\u001b[0;34m(\u001b[0m\u001b[0mK\u001b[0m\u001b[0;34m,\u001b[0m \u001b[0moverwrite_a\u001b[0m\u001b[0;34m=\u001b[0m\u001b[0mTrue\u001b[0m\u001b[0;34m,\u001b[0m \u001b[0mlower\u001b[0m\u001b[0;34m=\u001b[0m\u001b[0mFalse\u001b[0m\u001b[0;34m)\u001b[0m\u001b[0;34m,\u001b[0m \u001b[0mFalse\u001b[0m\u001b[0;34m)\u001b[0m\u001b[0;34m\u001b[0m\u001b[0m\n\u001b[0m\u001b[1;32m     70\u001b[0m         \u001b[0mself\u001b[0m\u001b[0;34m.\u001b[0m\u001b[0mlog_determinant\u001b[0m \u001b[0;34m=\u001b[0m \u001b[0;36m2\u001b[0m \u001b[0;34m*\u001b[0m \u001b[0mnp\u001b[0m\u001b[0;34m.\u001b[0m\u001b[0msum\u001b[0m\u001b[0;34m(\u001b[0m\u001b[0mnp\u001b[0m\u001b[0;34m.\u001b[0m\u001b[0mlog\u001b[0m\u001b[0;34m(\u001b[0m\u001b[0mnp\u001b[0m\u001b[0;34m.\u001b[0m\u001b[0mdiag\u001b[0m\u001b[0;34m(\u001b[0m\u001b[0mself\u001b[0m\u001b[0;34m.\u001b[0m\u001b[0m_factor\u001b[0m\u001b[0;34m[\u001b[0m\u001b[0;36m0\u001b[0m\u001b[0;34m]\u001b[0m\u001b[0;34m)\u001b[0m\u001b[0;34m)\u001b[0m\u001b[0;34m)\u001b[0m\u001b[0;34m\u001b[0m\u001b[0m\n\u001b[1;32m     71\u001b[0m         \u001b[0mself\u001b[0m\u001b[0;34m.\u001b[0m\u001b[0mcomputed\u001b[0m \u001b[0;34m=\u001b[0m \u001b[0mTrue\u001b[0m\u001b[0;34m\u001b[0m\u001b[0m\n",
      "\u001b[0;32m/Users/MeghanFrate/anaconda2/lib/python2.7/site-packages/scipy/linalg/decomp_cholesky.pyc\u001b[0m in \u001b[0;36mcholesky\u001b[0;34m(a, lower, overwrite_a, check_finite)\u001b[0m\n\u001b[1;32m     79\u001b[0m     \"\"\"\n\u001b[1;32m     80\u001b[0m     c, lower = _cholesky(a, lower=lower, overwrite_a=overwrite_a, clean=True,\n\u001b[0;32m---> 81\u001b[0;31m                             check_finite=check_finite)\n\u001b[0m\u001b[1;32m     82\u001b[0m     \u001b[0;32mreturn\u001b[0m \u001b[0mc\u001b[0m\u001b[0;34m\u001b[0m\u001b[0m\n\u001b[1;32m     83\u001b[0m \u001b[0;34m\u001b[0m\u001b[0m\n",
      "\u001b[0;32m/Users/MeghanFrate/anaconda2/lib/python2.7/site-packages/scipy/linalg/decomp_cholesky.pyc\u001b[0m in \u001b[0;36m_cholesky\u001b[0;34m(a, lower, overwrite_a, clean, check_finite)\u001b[0m\n\u001b[1;32m     28\u001b[0m     \u001b[0mc\u001b[0m\u001b[0;34m,\u001b[0m \u001b[0minfo\u001b[0m \u001b[0;34m=\u001b[0m \u001b[0mpotrf\u001b[0m\u001b[0;34m(\u001b[0m\u001b[0ma1\u001b[0m\u001b[0;34m,\u001b[0m \u001b[0mlower\u001b[0m\u001b[0;34m=\u001b[0m\u001b[0mlower\u001b[0m\u001b[0;34m,\u001b[0m \u001b[0moverwrite_a\u001b[0m\u001b[0;34m=\u001b[0m\u001b[0moverwrite_a\u001b[0m\u001b[0;34m,\u001b[0m \u001b[0mclean\u001b[0m\u001b[0;34m=\u001b[0m\u001b[0mclean\u001b[0m\u001b[0;34m)\u001b[0m\u001b[0;34m\u001b[0m\u001b[0m\n\u001b[1;32m     29\u001b[0m     \u001b[0;32mif\u001b[0m \u001b[0minfo\u001b[0m \u001b[0;34m>\u001b[0m \u001b[0;36m0\u001b[0m\u001b[0;34m:\u001b[0m\u001b[0;34m\u001b[0m\u001b[0m\n\u001b[0;32m---> 30\u001b[0;31m         \u001b[0;32mraise\u001b[0m \u001b[0mLinAlgError\u001b[0m\u001b[0;34m(\u001b[0m\u001b[0;34m\"%d-th leading minor not positive definite\"\u001b[0m \u001b[0;34m%\u001b[0m \u001b[0minfo\u001b[0m\u001b[0;34m)\u001b[0m\u001b[0;34m\u001b[0m\u001b[0m\n\u001b[0m\u001b[1;32m     31\u001b[0m     \u001b[0;32mif\u001b[0m \u001b[0minfo\u001b[0m \u001b[0;34m<\u001b[0m \u001b[0;36m0\u001b[0m\u001b[0;34m:\u001b[0m\u001b[0;34m\u001b[0m\u001b[0m\n\u001b[1;32m     32\u001b[0m         raise ValueError('illegal value in %d-th argument of internal potrf'\n",
      "\u001b[0;31mLinAlgError\u001b[0m: 81-th leading minor not positive definite"
     ]
    }
   ],
   "source": [
    "toys = makeToys(model_5param(xbins))\n",
    "\n",
    "pull=[]\n",
    "for toy in toys[:100]:\n",
    "    lnProb = logLike_minuit(xbins, toy, xerrs)\n",
    "    min_likelihood, best_fit_gp = fit_gp_minuit(100, lnProb)\n",
    "    Amp, length, p0, p1, p2 = best_fit_gp\n",
    "    kernel = Amp*ExpSquaredKernel(length)\n",
    "    gp = george.GP(kernel, mean=Mean(p0=p0, p1=p1, p2=p2), fit_mean = True)\n",
    "    gp.compute(xbins, np.sqrt(toy))\n",
    "    meanGP, covGP = gp.predict(toy, xbins)\n",
    "    pull+=list((toy-meanGP)/np.sqrt(np.diag(covGP)))"
   ]
  },
  {
   "cell_type": "code",
   "execution_count": 55,
   "metadata": {
    "collapsed": false
   },
   "outputs": [
    {
     "name": "stdout",
     "output_type": "stream",
     "text": [
      "(47914.389619758185, 293874.67321538634)\n"
     ]
    },
    {
     "data": {
      "image/png": "[encoded data removed]",
      "text/plain": [
       "<matplotlib.figure.Figure at 0x10e72fc90>"
      ]
     },
     "metadata": {},
     "output_type": "display_data"
    }
   ],
   "source": [
    "draw_pulls(pull) \n",
    "#np.save(\"toys.npy\",makeToys(model_5param(xbins)))"
   ]
  },
  {
   "cell_type": "code",
   "execution_count": null,
   "metadata": {
    "collapsed": true
   },
   "outputs": [],
   "source": [
    "def BumpHunter(dataHist, bkgHist):\n",
    "    ################\n",
    "    numBins = len(xbins)\n",
    "    minBins = 2\n",
    "    maxBins = len(xbins)/2\n",
    "    firstBin = xbins[0]\n",
    "    lastBin = xbins[-1]\n",
    "    for yi, y in reversed(list(enumerate(dataHist))):\n",
    "        if y ==0:\n",
    "            lastBin = xbins[yi-1]\n",
    "    #####################\n",
    "    mostInterestingP, lowEdgeMostInteresting, highEdgeMostInteresting = 1, 0, 0\n",
    "    smallestPforWidth, lowEdgeForWidth, highEdgeForWidth = 1, 0, 0\n",
    "    # Left hand side of leftmost bin in bump at minimum of its range\n",
    "    minBinL = 0\n",
    "    #Left hand side of leftmost bin in bump at maximum of its range\n",
    "    maxBinL = 0\n",
    "    #p-value in center\n",
    "    probC = 1\n",
    "\n",
    "    for width in range(minBins, maxBins+1, 1):\n",
    "        minBinL = firstBin\n",
    "        maxBinL = lastBin - width + 1\n",
    "        nbinsinstep = max(1,width/2.)\n",
    "        \n",
    "        for binL in range(minBinL, maxBinL, nbinsinstep):\n",
    "            binR = binL+width-1\n",
    "            \n",
    "            dC, bC= GetEffectiveBandContentsWithError(h_data, h_bkg, binL, binR)#, dC, deltaDC, bC, deltaBC) #DO THIS\n",
    "            \n",
    "            if not doDeficit: \n",
    "                if dC <= bC: continue\n",
    "            \n",
    "            probC = PoissonPval(dC,bC)\n",
    "            \n",
    "            if probC < smallestPforWidth:\n",
    "                smallestPforWidth = probC\n",
    "                lowEdgeForWidth = binEdge[binL]\n",
    "                highEdgeForWidth = binEdge[binR] + xerrs[binR]\n",
    "    \n",
    "        if smallestPforWidth < fMostInterestingP: \n",
    "            mostInterestingP = smallestPforWidth\n",
    "            lowEdgeMostInteresting = lowEdgeForWidth\n",
    "            highEdgeMostInteresting = highEdgeForWidth\n",
    "    return -np.log(mostInterestingP), lowEdgeMostInteresting, highEdgeMostInteresting\n",
    "\n",
    "\n",
    "def GetEffectiveBandContents(bkgHist, dataHist, firstBin, lastBin):\n",
    "    dataIntegral, bkgIntegral = 0, 0\n",
    "    for b in range(firstBin, lastBin+1, 1):\n",
    "        dataIntegral += dataHist[b]\n",
    "        bkgIntegral += bkgHist[b]\n",
    "    return dataIntegral, bkgIntegral\n",
    "\n",
    "def PoissonPval(data, bkg):\n",
    "    answer = 1\n",
    "    if data >= bkg:\n",
    "        answer = ssp.gammainc(d,b)\n",
    "    else:\n",
    "        answer = 1. - ssp.gammainc(d+1,b)\n",
    "    return answer\n",
    "\n"
   ]
  },
  {
   "cell_type": "markdown",
   "metadata": {},
   "source": [
    "######################################################################################"
   ]
  },
  {
   "cell_type": "markdown",
   "metadata": {},
   "source": [
    "######################################################################################"
   ]
  },
  {
   "cell_type": "markdown",
   "metadata": {},
   "source": [
    "### MCMC - emcee"
   ]
  },
  {
   "cell_type": "code",
   "execution_count": null,
   "metadata": {
    "collapsed": false
   },
   "outputs": [],
   "source": [
    "def priors_emcee(params):\n",
    "    Amp, length, p0, p1, p2 = params\n",
    "    if 1e10 > Amp > 1 and 1e6 > length > 0 and 50 > p0 > 0 and 20 > p1 > -20 and 20 > p2 > -20:\n",
    "        return 0\n",
    "    else:\n",
    "        return np.inf\n",
    "\n",
    "def logLike_emcee(params, x, y, yerr):\n",
    "    #gp.set_vector(np.log(params))\n",
    "    prior = priors_emcee(params)\n",
    "    if np.isinf(prior):\n",
    "        return np.inf\n",
    "    Amp, length, p0, p1, p2 = params\n",
    "    kernel = Amp*ExpSquaredKernel(length)\n",
    "    gp = george.GP(kernel, mean=Mean(p0=p0, p1=p1, p2=p2), fit_mean = True)\n",
    "    gp.compute(x, yerr)\n",
    "    return -gp.lnlikelihood(y) "
   ]
  },
  {
   "cell_type": "code",
   "execution_count": null,
   "metadata": {
    "collapsed": true
   },
   "outputs": [],
   "source": [
    "def fit_gp_emcee(initial, data, nwalkers=32):\n",
    "    ndim = len(initial)\n",
    "    p0 = [np.array(initial) + 1e-8 * np.random.randn(ndim)\n",
    "          for i in xrange(nwalkers)]\n",
    "    sampler = emcee.EnsembleSampler(nwalkers, ndim, logLike_emcee, args=data)\n",
    "    print(\"Running burn-in\")\n",
    "    p0, lnp, _ = sampler.run_mcmc(p0, 500)\n",
    "    sampler.reset()\n",
    "\n",
    "    print(\"Running second burn-in\")\n",
    "    p = p0[np.argmax(lnp)]\n",
    "    p0 = [p + 1e-8 * np.random.randn(ndim) for i in xrange(nwalkers)]\n",
    "    p0, _, _ = sampler.run_mcmc(p0, 500)\n",
    "    sampler.reset()\n",
    "\n",
    "    print(\"Running production\")\n",
    "    p0, _, _ = sampler.run_mcmc(p0, 1000)\n",
    "    return sampler"
   ]
  },
  {
   "cell_type": "code",
   "execution_count": null,
   "metadata": {
    "collapsed": false
   },
   "outputs": [],
   "source": [
    "Amp, length, p0, p1, p2 = p_init\n",
    "kernel = Amp*ExpSquaredKernel(length)\n",
    "gp = george.GP(kernel, mean=Mean(p0=p0, p1=p1, p2=p2), fit_mean = True) \n",
    "gp.compute(xbins, yerrs)\n",
    "\n",
    "data = (xbins, ycounts, yerrs)\n",
    "sampler = fit_gp_emcee(p_init, data)\n",
    "samples = sampler.flatchain\n",
    "\n",
    "meanGP, covGP = gp.predict(ycounts, xbins)"
   ]
  },
  {
   "cell_type": "code",
   "execution_count": null,
   "metadata": {
    "collapsed": false
   },
   "outputs": [],
   "source": [
    "sampleSet = np.empty([24, len(ycounts)])\n",
    "for si, s in enumerate(samples[np.random.randint(len(samples), size=24)]):\n",
    "    Amp, length, p0, p1, p2 = s\n",
    "    kernel = Amp*ExpSquaredKernel(length)\n",
    "    gp = george.GP(kernel, mean=Mean(p0=p0, p1=p1, p2=p2), fit_mean = True) \n",
    "    gp.compute(xbins, yerrs)\n",
    "    meanGP, covGP = gp.predict(ycounts, xbins)\n",
    "    print meanGP\n",
    "    sampleSet[si,:] = meanGP"
   ]
  },
  {
   "cell_type": "code",
   "execution_count": null,
   "metadata": {
    "collapsed": false
   },
   "outputs": [],
   "source": [
    "makePrettyPlots_samples(xbins, ycounts, sampleSet.tolist(), \"title\")"
   ]
  },
  {
   "cell_type": "markdown",
   "metadata": {},
   "source": [
    "### Try scipy"
   ]
  },
  {
   "cell_type": "markdown",
   "metadata": {},
   "source": [
    "#### Set up uniform priors on parameters - you can change this as you see fit. Use the built in method from george to get the log likelihood and gradient of the likelihood with respect to each parameter. set_vector sets the hyperparameters if they're changed from the initalization, but note set_vector/get_vector take in/return the log of the hyperparameters! "
   ]
  },
  {
   "cell_type": "code",
   "execution_count": null,
   "metadata": {
    "collapsed": false
   },
   "outputs": [],
   "source": [
    "def priors(params):\n",
    "    Amp, length, p0, p1, p2 = params\n",
    "    if 1e10 > Amp > 0 and 1e5 > length > 0 and 50 > p0 > 0 and 20 > p1 > -20 and 20 > p2 > -20: \n",
    "        return 0\n",
    "    else:\n",
    "        return np.inf\n",
    "\n",
    "        \n",
    "def logLike_scipy(params, y, x, xerr):\n",
    "    # Update the kernel parameters and compute the likelihood.\n",
    "    #gp.set_vector(np.log(params))\n",
    "    Amp, length, p0, p1, p2 = params\n",
    "    kernel = Amp*ExpSquaredKernel(length)\n",
    "    gp = george.GP(kernel, mean=Mean(p0=p0, p1=p1, p2=p2), fit_mean = True) \n",
    "    gp.compute(xbins, yerrs)\n",
    "    prior = priors(params)\n",
    "    return -gp.lnlikelihood(y) + prior if np.isfinite(prior) else 1e25\n",
    "    \n",
    "\n",
    "def grad_logLike_scipy(params, y, x, xerr):\n",
    "    # Update the kernel parameters and compute the likelihood.\n",
    "    #gp.set_vector(np.log(params))\n",
    "    Amp, length, p0, p1, p2 = params\n",
    "    kernel = Amp*ExpSquaredKernel(length)\n",
    "    gp = george.GP(kernel, mean=Mean(p0=p0, p1=p1, p2=p2), fit_mean = True) \n",
    "    gp.compute(xbins, yerrs)\n",
    "    grad_ll = gp.grad_lnlikelihood(y, quiet=True)\n",
    "    return -grad_ll\n",
    "\n",
    "        "
   ]
  },
  {
   "cell_type": "markdown",
   "metadata": {},
   "source": [
    "####  To start with george, you must always intialize a george.GP object with a kernel. You can also add in a mean function as we've done here, but if one is not specified its set to 0.  You can find more inforamtion about the different pre-made kernels, options for the GP object, mean functions, and how to build your own kernel at (ref). \n",
    "#### In our case, we want to use a fit function as our mean (otherwise the GP will be modeling fluctuations around 0!). We're using the 3 parameter dijet fit function. We also set the arguement fit_mean = True so that the mean function parameters will also be fit, along with the kernel hyperparameters\n",
    "#### Finally, you must always call gp.compute to precompute the covariance matrix at the independent coordinates before calling most other methods."
   ]
  },
  {
   "cell_type": "code",
   "execution_count": null,
   "metadata": {
    "collapsed": false
   },
   "outputs": [],
   "source": [
    "p_init = [5, 1e5, 1e-1, 5, -5]\n",
    "Amp, length, p0, p1, p2 = p_init\n",
    "\n",
    "kernel = Amp*ExpSquaredKernel(length)\n",
    "gp = george.GP(kernel, mean=Mean(p0=p0, p1=p1, p2=p2), fit_mean = True) \n",
    "\n",
    "print \"initial\", np.exp(gp.get_vector())\n",
    "\n",
    "gp.compute(xbins, yerrs)"
   ]
  },
  {
   "cell_type": "markdown",
   "metadata": {},
   "source": [
    "#### Then, pass your likelihood functions with you initial hyperparameter guesses and the data into scipy.optimize.minimize. This will return your best fit hyperparameters, which you can set in your kernel/mean functions with gp.set_vector. You can put bounds on the parameters (bounds = [(min, max), (min, max)..]). "
   ]
  },
  {
   "cell_type": "code",
   "execution_count": null,
   "metadata": {
    "collapsed": false
   },
   "outputs": [],
   "source": [
    "results = op.minimize(logLike_scipy, p_init, args = (ycounts, xbins, xerrs), jac=grad_logLike_scipy)\n",
    "print \"results\", results.x\n",
    "#gp.set_vector(np.log(results.x))"
   ]
  },
  {
   "cell_type": "markdown",
   "metadata": {},
   "source": [
    "#### Finally, call predict to get the mean and variance of the predictive distribution. This is what we use as our GP fit. Then make a pretty plot to see how well it did"
   ]
  },
  {
   "cell_type": "code",
   "execution_count": null,
   "metadata": {
    "collapsed": false
   },
   "outputs": [],
   "source": [
    "Amp, length, p0, p1, p2 = results.x\n",
    "kernel = Amp*ExpSquaredKernel(length)\n",
    "gp = george.GP(kernel, mean=Mean(p0=p0, p1=p1, p2=p2), fit_mean = True) \n",
    "gp.compute(xbins, yerrs)\n",
    "meanGP, covGP = gp.predict(ycounts, xbins) \n",
    "makePrettyPlots(xbins, ycounts, meanGP, \"Gaussian Process Fit\")"
   ]
  },
  {
   "cell_type": "markdown",
   "metadata": {},
   "source": [
    "#### Use 3 parameter fit function as mean"
   ]
  },
  {
   "cell_type": "code",
   "execution_count": null,
   "metadata": {
    "collapsed": true
   },
   "outputs": [],
   "source": [
    "def mean_function(params, t, xerr): \n",
    "    p0, p1, p2 = params\n",
    "    #print p0, p1, p2\n",
    "    sqrts = 13000.\n",
    "    return (p0 * (1.-t/sqrts)**p1 * (t/sqrts)**(p2))*xerr"
   ]
  },
  {
   "cell_type": "code",
   "execution_count": null,
   "metadata": {
    "collapsed": true
   },
   "outputs": [],
   "source": [
    "class logLike_3ff:\n",
    "    def __init__(self, x, y, xe):\n",
    "        self.x = x\n",
    "        self.y = y\n",
    "        self.xe = xe\n",
    "    def __call__(self, p0, p1, p2):\n",
    "        params = p0, p1, p2\n",
    "        bkgFunc = mean_function(params, self.x, self.xe)       \n",
    "        logL = 0\n",
    "        for ibin in range(len(self.y)):\n",
    "            data = self.y[ibin]\n",
    "            bkg = bkgFunc[ibin]\n",
    "            logL += -simpleLogPoisson(data, bkg)\n",
    "        try:\n",
    "            logL\n",
    "            return logL\n",
    "        except:\n",
    "            return np.inf\n",
    "\n",
    "def fit_3ff(lnprob, Print = True):\n",
    "    minLLH = np.inf\n",
    "    best_fit_params = (0., 0., 0.)\n",
    "    passedFit = False\n",
    "    numRetries = 0\n",
    "    while not passedFit and numRetries < 10:\n",
    "        init0 = np.random.random() * 1.\n",
    "        init1 = np.random.random() * 8.\n",
    "        init2 = np.random.random() * -6.\n",
    "        m = Minuit(lnprob, throw_nan = False, pedantic = False, print_level = 0, errordef = 0.5,\n",
    "                  p0 = init0, p1 = init1, p2 = init2,\n",
    "                  error_p0 = 1e-2, error_p1 = 1e-2, error_p2 = 1e-2, \n",
    "                  limit_p0 = (0, 20.), limit_p1 = (-20., 20.), limit_p2 = (-20., 20.))\n",
    "        fit = m.migrad()\n",
    "        if fit[0]['is_valid']: \n",
    "            passedFit=True\n",
    "        if m.fval < minLLH:\n",
    "            minLLH = m.fval\n",
    "            best_fit_params = m.args     \n",
    "            \n",
    "        if numRetries == 9: \n",
    "            print \"retry number = \", 10, \": failed fits\", lnprob.__class__.__name__\n",
    "            minLLH=np.inf\n",
    "            best_fit_params=(0, 0, 0)\n",
    "        numRetries+=1 \n",
    "\n",
    "    if Print:\n",
    "        print \"min LL\", minLLH\n",
    "        print \"best fit vals\", best_fit_params\n",
    "    return minLLH, best_fit_params\n",
    "def simpleLogPoisson(x, par):\n",
    "    if x < 0: \n",
    "        return np.inf\n",
    "    elif (x == 0): return -1.*par\n",
    "    else:\n",
    "        lnpoisson = x*np.log(par)-par-ssp.gammaln(x+1.) \n",
    "        return lnpoisson"
   ]
  },
  {
   "cell_type": "code",
   "execution_count": null,
   "metadata": {
    "collapsed": false
   },
   "outputs": [],
   "source": [
    "lnProb = logLike_3ff(xbins, ycounts ,xerrs)\n",
    "ll_b3, best_fit_params = fit_3ff(lnProb, False)\n",
    "print best_fit_params"
   ]
  },
  {
   "cell_type": "code",
   "execution_count": null,
   "metadata": {
    "collapsed": true
   },
   "outputs": [],
   "source": []
  }
 ],
 "metadata": {
  "anaconda-cloud": {},
  "kernelspec": {
   "display_name": "Python [Root]",
   "language": "python",
   "name": "Python [Root]"
  },
  "language_info": {
   "codemirror_mode": {
    "name": "ipython",
    "version": 2
   },
   "file_extension": ".py",
   "mimetype": "text/x-python",
   "name": "python",
   "nbconvert_exporter": "python",
   "pygments_lexer": "ipython2",
   "version": "2.7.12"
  }
 },
 "nbformat": 4,
 "nbformat_minor": 0
}
