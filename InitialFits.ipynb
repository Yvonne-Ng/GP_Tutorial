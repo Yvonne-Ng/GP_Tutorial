{
 "cells": [
  {
   "cell_type": "code",
   "execution_count": 1,
   "metadata": {
    "collapsed": false,
    "deletable": true,
    "editable": true
   },
   "outputs": [
    {
     "name": "stderr",
     "output_type": "stream",
     "text": [
      "/Users/MeghanFrate/anaconda2/lib/python2.7/site-packages/matplotlib/font_manager.py:273: UserWarning: Matplotlib is building the font cache using fc-list. This may take a moment.\n",
      "  warnings.warn('Matplotlib is building the font cache using fc-list. This may take a moment.')\n"
     ]
    },
    {
     "name": "stdout",
     "output_type": "stream",
     "text": [
      "Populating the interactive namespace from numpy and matplotlib\n"
     ]
    }
   ],
   "source": [
    "%pylab inline --no-import-all\n",
    "import math\n",
    "import george\n",
    "import numpy as np\n",
    "import emcee\n",
    "\n",
    "import scipy.optimize as so\n",
    "import scipy.special as ssp\n",
    "from iminuit import Minuit\n",
    "import ROOT as r\n",
    "import matplotlib.ticker as ticker\n",
    "import matplotlib.cm as cmap\n",
    "from rootpy.plotting import Hist, Hist2D, Legend, Canvas\n",
    "import rootpy.plotting.root2matplotlib as rplt\n",
    "from george.kernels import ExpSquaredKernel"
   ]
  },
  {
   "cell_type": "markdown",
   "metadata": {},
   "source": [
    "### the kernel, or covariance structure, is what defines a Gaussian Process. \n",
    "### Initially, you'll start with a Exponential Squared kernel with a mean of a standard fit function used for the analysis. Having a mean function means you're modeling the fluctuations of your data around the fit function. The Gaussian Process is still flexible enough to fit the data even if the fit function doesn't fit the data well - i.e. you shouldn't need to spend time testing out different fit functions. As long as it describes the data fairly well, it should work. \n",
    "### The exponential squared kernel is a fairly basic kernel that says the covariance between points should die off as 1/(x1-x2)^2. Most kernels you'll want for your analysis will have this feature - the farther points are away from each other, the less they effect each other. \n",
    "### the hyperparameters of the kernel let you fine tune your kernel. For instance, the exponential squared kernel has a length scale hyperparameter l, which is related to the smoothness of your kernel. Too small, and the GP will be allowed to fluctuate on short length scales. Too large, and you smear out features you want to fit."
   ]
  },
  {
   "cell_type": "markdown",
   "metadata": {},
   "source": [
    "###################################################################################################"
   ]
  },
  {
   "cell_type": "markdown",
   "metadata": {},
   "source": [
    "#### Make a pretty plot overlaying a fit on data"
   ]
  },
  {
   "cell_type": "code",
   "execution_count": 2,
   "metadata": {
    "collapsed": true
   },
   "outputs": [],
   "source": [
    "def basicPlot(xs, ys, title, col='g'):\n",
    "    f, (ax1) = plt.subplots(1, sharex=True, figsize=(10,10))\n",
    "    f.suptitle(title, fontsize=30)\n",
    "    dataPlot = ax1.errorbar(xs, ys, marker='o', ls='None', yerr = np.sqrt(ys), c='black', markersize=10)\n",
    "    ax1.set_ylabel('Events', fontsize=20)\n",
    "    ax1.tick_params(axis='y', labelsize=20)\n",
    "    ax1.set_yscale('log', nonposy=\"clip\")\n",
    "    ax1.set_ylim([0.01, 2e6])\n",
    "    \n",
    "    ax1.set_xscale('log')\n",
    "    ax1.tick_params(axis='x', labelsize=20)\n",
    "    ax1.set_xlabel(r\"$m_{jj}$ [TeV]\", fontsize=30)\n",
    "    ax1.set_xlim([1000, 7500])\n",
    "    ax1.set_xticks([1000, 2000, 3000, 4000, 5000, 6000, 7000])\n",
    "    ax1.get_xaxis().set_major_formatter(matplotlib.ticker.ScalarFormatter())\n",
    "    minor_ticks = np.arange(1000, 7500, 100)\n",
    "    ax1.set_xticks(minor_ticks, minor=True)  \n",
    "    labels = [\"1\",\"2\",\"3\",\"4\",\"5\",\"6\",\"7\"]\n",
    "    ax1.set_xticklabels(labels)"
   ]
  },
  {
   "cell_type": "markdown",
   "metadata": {},
   "source": [
    "### For this tutorial, lets make a fake data set. Since I was originally working on the dijet analysis, lets make the dataset from a 5 parameter dijet fit function"
   ]
  },
  {
   "cell_type": "code",
   "execution_count": 10,
   "metadata": {
    "collapsed": true
   },
   "outputs": [],
   "source": [
    "def model_5param(t): \n",
    "    #because I already fit the 13TeV 3.6 fb-1 dijet dataset and here were the parameters\n",
    "    p0, p1, p2, p3, p4 = (0.25, 9.8, -3.5, 0.61, 0.078)\n",
    "    sqrts = 13000.\n",
    "    return (p0 * ((1.-t/sqrts)**p1) * (t/sqrts)**(p2+p3*np.log(t/sqrts)+p4*np.log(t/sqrts)**2))*np.append(np.diff(t), np.diff(t)[-1])"
   ]
  },
  {
   "cell_type": "markdown",
   "metadata": {},
   "source": [
    "#### create some evenly spaced bins in log space, add some Poisson noise to this result of the fit function, and create a ROOT file with the histogram. Then make a pretty plot just to make sure everything looks ok"
   ]
  },
  {
   "cell_type": "code",
   "execution_count": 11,
   "metadata": {
    "collapsed": false
   },
   "outputs": [
    {
     "data": {
      "image/png": "[encoded data removed]",
      "text/plain": [
       "<matplotlib.figure.Figure at 0x11c54b690>"
      ]
     },
     "metadata": {},
     "output_type": "display_data"
    }
   ],
   "source": [
    "xbins = np.logspace(np.log10(1100), np.log10(7000), 75)\n",
    "dataset = np.random.poisson(model_5param(xbins))\n",
    "dataset_hist = r.TH1D(\"dataset\", \"dataset\", len(xbins), xbins)\n",
    "for ib in range(1,len(xbins)):\n",
    "    dataset_hist.SetBinContent(ib, dataset[ib])\n",
    "    dataset_hist.SetBinError(ib, math.sqrt(dataset[ib]))\n",
    "dataset_file = r.TFile(\"inputData.root\",\"RECREATE\")\n",
    "dataset_file.cd()\n",
    "dataset_hist.Write()\n",
    "dataset_file.Close()\n",
    "basicPlot(xbins, dataset, \"Fake Dijet Dataset\")"
   ]
  },
  {
   "cell_type": "markdown",
   "metadata": {
    "deletable": true,
    "editable": true
   },
   "source": [
    "# Basics fits\n",
    "#### Fit GP to data or MC template"
   ]
  },
  {
   "cell_type": "markdown",
   "metadata": {},
   "source": [
    "### Some useful functions"
   ]
  },
  {
   "cell_type": "markdown",
   "metadata": {},
   "source": [
    "#### Calculate the z-val and chi squared fit between data and fit. The signficance is plotted in the bottom panel of makePrettyPlots"
   ]
  },
  {
   "cell_type": "code",
   "execution_count": 12,
   "metadata": {
    "collapsed": true
   },
   "outputs": [],
   "source": [
    "def calcSignificance(Data, Bkg):\n",
    "    pvals = []\n",
    "    zvals = []\n",
    "    chi2 = 0\n",
    "    for i, nD in enumerate(Data):\n",
    "        nB = Bkg[i]\n",
    "        if nD != 0:\n",
    "            if nB > nD:\n",
    "                pval = 1.-ssp.gammainc(nD+1.,nB)\n",
    "            else:\n",
    "                pval = ssp.gammainc(nD,nB)\n",
    "            prob = 1.-2.*pval\n",
    "            if prob > -1 and prob < 1:\n",
    "                zval = math.sqrt(2.)*ssp.erfinv(prob)\n",
    "            else:\n",
    "                zval = np.inf\n",
    "            if zval > 100: zval = 20\n",
    "            if zval < 0: zval = 0\n",
    "            if (nD < nB): zval = -zval\n",
    "        else: zval = 0\n",
    "            \n",
    "        zvals.append(zval)\n",
    "        chi2 += ((nD - nB) ** 2 / abs(nB)) \n",
    "    return zvals, chi2"
   ]
  },
  {
   "cell_type": "markdown",
   "metadata": {},
   "source": [
    "#### Make a pretty plot of fit overlaid on data in the top panel and the signficance plotted in the bottom panel"
   ]
  },
  {
   "cell_type": "code",
   "execution_count": 13,
   "metadata": {
    "collapsed": true
   },
   "outputs": [],
   "source": [
    "def makePrettyPlots(xs, ys, bkgs, title, col = 'g', ymax = 2e6):\n",
    "    f, (ax1, ax2) = plt.subplots(2, sharex=True, figsize=(12,12), gridspec_kw = {'height_ratios':[3, 1]})\n",
    "    f.suptitle(title, fontsize=30)\n",
    "    dataPlot = ax1.errorbar(xs, ys, marker='o', ls='None', yerr = np.sqrt(ys), c='black', markersize=10, label=\"data+signal\")\n",
    "    bkgPlot, =ax1.plot(xs, bkgs, color=col, linewidth=3.0, label=\"bkg only\")\n",
    "    ax1.legend()\n",
    "    ax1.set_ylabel('Events', fontsize=20)\n",
    "    ax1.tick_params(axis='y', labelsize=20)\n",
    "    ax1.set_yscale('log', nonposy=\"clip\")\n",
    "    ax1.set_xscale('log')\n",
    "    ax1.set_xlim([1000, 7500])\n",
    "    ax1.set_ylim([0.1, ymax])\n",
    "  \n",
    "    #bin by bin significance    \n",
    "    zvals, chi2 = calcSignificance(ys, bkgs)\n",
    "    print \"chi2\", chi2\n",
    "    h1 = Hist(binedges,markersize=0)\n",
    "    for x in range(len(zvals)):\n",
    "        if zvals[x] == np.inf or zvals[x] == -np.inf: h1[x] = 20\n",
    "        else: h1[x] = zvals[x]  \n",
    "    \n",
    "    h1.fillstyle = 'solid'\n",
    "    if col == 'g':\n",
    "         h1.fillcolor = 'green'\n",
    "    elif col == 'b':\n",
    "         h1.fillcolor = 'blue'\n",
    "    elif col == 'r':\n",
    "         h1.fillcolor = 'red'\n",
    "    else:\n",
    "        h1.fillcolor = 'black'\n",
    "    h1.linecolor = 'black'\n",
    "    h1.linewidth = 1\n",
    "    h1.Draw(\"histX0\")\n",
    "    rplt.bar(h1, xerr=None, yerr=None)\n",
    "    ax2.axhline(0, color='black', lw=1)\n",
    "    ax2.tick_params(axis='x', labelsize=20)\n",
    "    ax2.tick_params(axis='y', labelsize=20)\n",
    "    ax2.set_xlabel(r\"$m_{jj}$ [TeV]\", fontsize=30)\n",
    "    ax2.set_ylabel('Significance', fontsize=20)\n",
    "    ax2.set_xscale('log')\n",
    "    ax2.set_xlim([1000, 7500])\n",
    "    ax2.set_xticks([1000, 2000, 3000, 4000, 5000, 6000, 7000])\n",
    "    ax2.get_xaxis().set_major_formatter(matplotlib.ticker.ScalarFormatter())\n",
    "    minor_ticks = np.arange(1000, 7500, 100)\n",
    "    ax2.set_xticks(minor_ticks, minor=True)  \n",
    "    labels = [\"1\",\"2\",\"3\",\"4\",\"5\",\"6\",\"7\"]\n",
    "    ax2.set_xticklabels(labels)\n",
    "    ax2.set_ylim([-5, 5])\n",
    "    \n",
    "    f.subplots_adjust(hspace=0)\n",
    "    plt.setp([a.get_xticklabels() for a in f.axes[:-1]], visible=False)    \n",
    "    plt.show()\n",
    "\n"
   ]
  },
  {
   "cell_type": "markdown",
   "metadata": {
    "deletable": true,
    "editable": true
   },
   "source": [
    "#### grab your data or MC from root file and save points in arrays to be used in GP fit"
   ]
  },
  {
   "cell_type": "code",
   "execution_count": 14,
   "metadata": {
    "collapsed": false
   },
   "outputs": [],
   "source": [
    "input_file = r.TFile(\"inputData.root\", \"OPEN\")\n",
    "input_hist = input_file.Get(\"dataset\")\n",
    "ycounts = []\n",
    "yerrs = []\n",
    "xbins = []\n",
    "xerrs = []\n",
    "binedges = []\n",
    "for ib in range(1,input_hist.GetNbinsX()):\n",
    "    ycounts.append(input_hist.GetBinContent(ib))\n",
    "    yerrs.append(input_hist.GetBinError(ib))\n",
    "    xbins.append(input_hist.GetBinCenter(ib))\n",
    "    xerrs.append(input_hist.GetBinLowEdge(ib+1)-input_hist.GetBinLowEdge(ib))\n",
    "    binedges.append(input_hist.GetBinLowEdge(ib))\n",
    "input_file.Close()\n",
    "ycounts = np.array(ycounts)\n",
    "yerrs = np.array(yerrs)\n",
    "xbins = np.array(xbins)\n",
    "xerrs = np.array(xerrs)\n",
    "np.save(\"ycounts\", ycounts)\n",
    "np.save(\"yerrs\", yerrs)\n",
    "np.save(\"xbins\", xbins)\n",
    "np.save(\"xerrs\", xerrs)\n",
    "#binedges = np.array(binedges)"
   ]
  },
  {
   "cell_type": "markdown",
   "metadata": {},
   "source": [
    "### To fit Gaussian Process, set up a negative log likelihood minimization "
   ]
  },
  {
   "cell_type": "markdown",
   "metadata": {},
   "source": [
    "#### We're going to use a fit function as the mean of our GP. Set up the 3 parameter dijet function here with george - get_value is what is called in george to calculate the mean"
   ]
  },
  {
   "cell_type": "code",
   "execution_count": 15,
   "metadata": {
    "collapsed": false
   },
   "outputs": [],
   "source": [
    "from george.modeling import ModelingMixin\n",
    "class Mean(ModelingMixin):\n",
    "    def get_value(self, t):\n",
    "        sqrts = 13000.\n",
    "        return (self.p0 * (1.-t/sqrts)**self.p1 * (t/sqrts)**(self.p2))*np.append(np.diff(t), np.diff(t)[-1])\n"
   ]
  },
  {
   "cell_type": "markdown",
   "metadata": {},
   "source": [
    "### Minimize using minuit"
   ]
  },
  {
   "cell_type": "markdown",
   "metadata": {},
   "source": [
    "#### Use the built in method from george to get the log likelihood. Create a loglikelihood class to pass to minuit.  Instead of a separate prior, I'm just putting bounds on parameters in minuit. \n",
    "#### A more robust way of running minuit is to run the minimization multiple times and keep track of the lowest log likelihood value and its corresponding parameters, in case minuit settles into some local minima. You can of course just run it once, and it will mostly produce good results, and speed things up signficantly. \n",
    "#### Names of the input parameters in minuit must be the same as in the likelihood class. Set up the intial parameters, step sizes for each parameter (error), and bounds on the parameters (limit).  "
   ]
  },
  {
   "cell_type": "code",
   "execution_count": 16,
   "metadata": {
    "collapsed": true
   },
   "outputs": [],
   "source": [
    "class logLike_minuit:\n",
    "    def __init__(self, x, y, xerr):\n",
    "        self.x = x\n",
    "        self.y = y\n",
    "        self.xerr = xerr\n",
    "    def __call__(self, Amp, length, p0, p1, p2):\n",
    "        kernel = Amp*ExpSquaredKernel(length)\n",
    "        gp = george.GP(kernel, mean=Mean(p0=p0, p1=p1, p2=p2), fit_mean = True)\n",
    "        gp.compute(self.x, np.sqrt(self.y))\n",
    "        return -gp.lnlikelihood(self.y)\n",
    "\n",
    "        \n",
    "def fit_gp_minuit(num, lnprob):\n",
    "    min_likelihood = np.inf\n",
    "    best_fit_params = (0, 0, 0, 0, 0)\n",
    "    for i in range(num):\n",
    "        init0 = np.random.random() * 100.\n",
    "        init1 = np.random.random() * 20.\n",
    "        init2 = np.random.random() * 1. \n",
    "        init3 = np.random.random() * 1.\n",
    "        init4 = np.random.random() * 1.\n",
    "        m = Minuit(lnprob, throw_nan = False, pedantic = False, print_level = 0, errordef = 0.5,\n",
    "                  Amp = init0, length = init1, \n",
    "                   p0 = init2, p1 = init3, p2 = init4,\n",
    "                   error_Amp = 1e1, error_length = 1e1,\n",
    "                   error_p0 = 1e-2, error_p1 = 1e-2, error_p2 = 1e-2,\n",
    "                  limit_Amp = (0.1, 1e10), limit_length = (100, 1e6), \n",
    "                   limit_p0 = (0,10), limit_p1 = (-20, 20), limit_p2 = (-20,20)) \n",
    "        m.migrad()\n",
    "        if m.fval < min_likelihood:\n",
    "            min_likelihood = m.fval\n",
    "            best_fit_params = m.args \n",
    "    print \"min LL\", min_likelihood\n",
    "    print \"best fit vals\", best_fit_params\n",
    "    return min_likelihood, best_fit_params"
   ]
  },
  {
   "cell_type": "markdown",
   "metadata": {},
   "source": [
    "#### To start with george, you must always intialize a george.GP object with a kernel. You can also add in a mean function as we've done here, but if one is not specified its set to 0. You can find more inforamtion about the different pre-made kernels, options for the GP object, mean functions, and how to build your own kernel at http://dan.iel.fm/george/current/.\n",
    "#### In our case, we want to use a fit function as our mean (otherwise the GP will be modeling fluctuations around 0!). We're using the 3 parameter dijet fit function. We also set the arguement fit_mean = True so that the mean function parameters will also be fit, along with the kernel hyperparameters\n",
    "#### Finally, you must always call gp.compute to precompute the covariance matrix at the independent coordinates before calling most other methods"
   ]
  },
  {
   "cell_type": "code",
   "execution_count": 17,
   "metadata": {
    "collapsed": true
   },
   "outputs": [],
   "source": [
    "p_init = [5, 1e3, 1e-1, 5, -5]\n",
    "Amp, length, p0, p1, p2 = p_init"
   ]
  },
  {
   "cell_type": "code",
   "execution_count": 18,
   "metadata": {
    "collapsed": false
   },
   "outputs": [],
   "source": [
    "kernel = Amp*ExpSquaredKernel(length)\n",
    "gp = george.GP(kernel, mean=Mean(p0=p0, p1=p1, p2=p2), fit_mean = True)\n",
    "gp.compute(xbins, yerrs)"
   ]
  },
  {
   "cell_type": "markdown",
   "metadata": {},
   "source": [
    "#### Call your minuit minimzation"
   ]
  },
  {
   "cell_type": "code",
   "execution_count": 19,
   "metadata": {
    "collapsed": false
   },
   "outputs": [
    {
     "name": "stdout",
     "output_type": "stream",
     "text": [
      "min LL 345.477798718\n",
      "best fit vals (1.5826395666596667, 218535.65928695325, 0.03798467356260715, 8.557114779861578, -5.224593417393155)\n"
     ]
    }
   ],
   "source": [
    "lnProb = logLike_minuit(xbins, ycounts, xerrs)\n",
    "min_likelihood, best_fit_gp = fit_gp_minuit(100, lnProb)\n",
    "Amp, length, p0, p1, p2 = best_fit_gp\n",
    "\n",
    "np.save(\"fixedHyperparameters.npy\",best_fit_gp)"
   ]
  },
  {
   "cell_type": "markdown",
   "metadata": {},
   "source": [
    "#### Finally, call predict to get the mean and variance of the predictive distribution. This is what we use as our GP fit. "
   ]
  },
  {
   "cell_type": "code",
   "execution_count": 20,
   "metadata": {
    "collapsed": false
   },
   "outputs": [],
   "source": [
    "Amp, length, p0, p1, p2 = best_fit_gp\n",
    "kernel = Amp*ExpSquaredKernel(length)\n",
    "gp = george.GP(kernel, mean=Mean(p0=p0, p1=p1, p2=p2), fit_mean = True)\n",
    "gp.compute(xbins, yerrs)\n",
    "\n",
    "meanGP, covGP = gp.predict(ycounts, xbins)"
   ]
  },
  {
   "cell_type": "markdown",
   "metadata": {},
   "source": [
    "#### And make the pretty plot"
   ]
  },
  {
   "cell_type": "code",
   "execution_count": 21,
   "metadata": {
    "collapsed": false
   },
   "outputs": [
    {
     "name": "stdout",
     "output_type": "stream",
     "text": [
      "chi2 2231.73832288\n"
     ]
    },
    {
     "data": {
      "image/png": "[encoded data removed]",
      "text/plain": [
       "<matplotlib.figure.Figure at 0x11c4f84d0>"
      ]
     },
     "metadata": {},
     "output_type": "display_data"
    }
   ],
   "source": [
    "makePrettyPlots(xbins, ycounts, meanGP, \"Gaussian Process Fit\")"
   ]
  },
  {
   "cell_type": "markdown",
   "metadata": {},
   "source": [
    "### Lets look at some samples from the posterior"
   ]
  },
  {
   "cell_type": "markdown",
   "metadata": {},
   "source": [
    "#### First, something to make the plot look pretty and plot all those samples"
   ]
  },
  {
   "cell_type": "code",
   "execution_count": 22,
   "metadata": {
    "collapsed": true
   },
   "outputs": [],
   "source": [
    "def makePrettyPlots_samples(xs, ys, bkgFits, title, ymax = 1e6):\n",
    "    f, ax1 = plt.subplots(1, sharex=True, figsize=(10,7))\n",
    "    f.suptitle(title, fontsize=30)\n",
    "    dataPlot = ax1.errorbar(xs, ys, marker='o', ls='None', yerr = np.sqrt(ys), c='black', markersize=10, label=\"data\")\n",
    "    for ik, bkg in enumerate(bkgFits):\n",
    "        if ik == 0:\n",
    "            bkgPlot, =ax1.plot(xs, bkg, color=\"b\", alpha=0.3, linewidth=1.0, label=\"Posterior samples\")\n",
    "        else:\n",
    "            bkgPlot =ax1.plot(xs, bkg, color=\"b\", alpha=0.3, linewidth=1.0)\n",
    "    ax1.legend()\n",
    "    ax1.set_ylabel('Events', fontsize=20)\n",
    "    ax1.tick_params(axis='y', labelsize=20)\n",
    "    ax1.set_yscale('log', nonposy=\"clip\")\n",
    "    ax1.set_xscale('log')\n",
    "    ax1.set_xlim([1000, 7500])\n",
    "    ax1.set_ylim([0.1, ymax])\n",
    "\n",
    "\n",
    "    ax1.tick_params(axis='x', labelsize=20)\n",
    "    ax1.tick_params(axis='y', labelsize=20)\n",
    "    ax1.set_xlabel(r\"$m_{jj}$ [TeV]\", fontsize=30)\n",
    "\n",
    "    ax1.set_xlim([1000, 7500])\n",
    "    ax1.set_xticks([1000, 2000, 3000, 4000, 5000, 6000, 7000])\n",
    "    ax1.get_xaxis().set_major_formatter(matplotlib.ticker.ScalarFormatter())\n",
    "    minor_ticks = np.arange(1000, 7500, 100)\n",
    "    ax1.set_xticks(minor_ticks, minor=True)  \n",
    "    labels = [\"1\",\"2\",\"3\",\"4\",\"5\",\"6\",\"7\"]\n",
    "    ax1.set_xticklabels(labels)\n",
    "    \n",
    "    f.subplots_adjust(hspace=0)\n",
    "    plt.setp([a.get_xticklabels() for a in f.axes[:-1]], visible=False)    \n",
    "    plt.show()"
   ]
  },
  {
   "cell_type": "markdown",
   "metadata": {},
   "source": [
    "#### sample_conditional samples the predictive distribution (the same as the mean from above), where the 3rd arguement is the number of samples you want"
   ]
  },
  {
   "cell_type": "code",
   "execution_count": 23,
   "metadata": {
    "collapsed": false
   },
   "outputs": [
    {
     "name": "stderr",
     "output_type": "stream",
     "text": [
      "/Users/MeghanFrate/anaconda2/lib/python2.7/site-packages/george-1.0.0.dev0-py2.7-macosx-10.6-x86_64.egg/george/utils.py:30: RuntimeWarning: covariance is not positive-semidefinite.\n"
     ]
    },
    {
     "data": {
      "image/png": "[encoded data removed]",
      "text/plain": [
       "<matplotlib.figure.Figure at 0x1190e2c50>"
      ]
     },
     "metadata": {},
     "output_type": "display_data"
    }
   ],
   "source": [
    "samps = gp.sample_conditional(ycounts, xbins, 100)\n",
    "makePrettyPlots_samples(xbins, ycounts, samps, \"posterior samples\")"
   ]
  },
  {
   "cell_type": "code",
   "execution_count": null,
   "metadata": {
    "collapsed": true
   },
   "outputs": [],
   "source": [
    "###########"
   ]
  },
  {
   "cell_type": "code",
   "execution_count": 24,
   "metadata": {
    "collapsed": true
   },
   "outputs": [],
   "source": [
    "def makeToys(dataset, nPseudo=1000, lumi = 1.):\n",
    "    toys = []\n",
    "    for n in range(nPseudo):\n",
    "        pseudo = np.random.poisson(dataset*lumi)\n",
    "        toys.append(pseudo)\n",
    "    return toys"
   ]
  },
  {
   "cell_type": "code",
   "execution_count": 25,
   "metadata": {
    "collapsed": false
   },
   "outputs": [],
   "source": [
    "np.save(\"toys.npy\",makeToys(model_5param(xbins)))"
   ]
  },
  {
   "cell_type": "markdown",
   "metadata": {},
   "source": [
    "######################################################################################"
   ]
  },
  {
   "cell_type": "markdown",
   "metadata": {},
   "source": [
    "######################################################################################"
   ]
  },
  {
   "cell_type": "markdown",
   "metadata": {},
   "source": [
    "### MCMC - emcee"
   ]
  },
  {
   "cell_type": "code",
   "execution_count": null,
   "metadata": {
    "collapsed": false
   },
   "outputs": [],
   "source": [
    "def priors_emcee(params):\n",
    "    Amp, length, p0, p1, p2 = params\n",
    "    if 1e10 > Amp > 1 and 1e6 > length > 0 and 50 > p0 > 0 and 20 > p1 > -20 and 20 > p2 > -20:\n",
    "        return 0\n",
    "    else:\n",
    "        return np.inf\n",
    "\n",
    "def logLike_emcee(params, x, y, yerr):\n",
    "    #gp.set_vector(np.log(params))\n",
    "    prior = priors_emcee(params)\n",
    "    if np.isinf(prior):\n",
    "        return np.inf\n",
    "    Amp, length, p0, p1, p2 = params\n",
    "    kernel = Amp*ExpSquaredKernel(length)\n",
    "    gp = george.GP(kernel, mean=Mean(p0=p0, p1=p1, p2=p2), fit_mean = True)\n",
    "    gp.compute(x, yerr)\n",
    "    return -gp.lnlikelihood(y) "
   ]
  },
  {
   "cell_type": "code",
   "execution_count": null,
   "metadata": {
    "collapsed": true
   },
   "outputs": [],
   "source": [
    "def fit_gp_emcee(initial, data, nwalkers=32):\n",
    "    ndim = len(initial)\n",
    "    p0 = [np.array(initial) + 1e-8 * np.random.randn(ndim)\n",
    "          for i in xrange(nwalkers)]\n",
    "    sampler = emcee.EnsembleSampler(nwalkers, ndim, logLike_emcee, args=data)\n",
    "    print(\"Running burn-in\")\n",
    "    p0, lnp, _ = sampler.run_mcmc(p0, 500)\n",
    "    sampler.reset()\n",
    "\n",
    "    print(\"Running second burn-in\")\n",
    "    p = p0[np.argmax(lnp)]\n",
    "    p0 = [p + 1e-8 * np.random.randn(ndim) for i in xrange(nwalkers)]\n",
    "    p0, _, _ = sampler.run_mcmc(p0, 500)\n",
    "    sampler.reset()\n",
    "\n",
    "    print(\"Running production\")\n",
    "    p0, _, _ = sampler.run_mcmc(p0, 1000)\n",
    "    return sampler"
   ]
  },
  {
   "cell_type": "code",
   "execution_count": null,
   "metadata": {
    "collapsed": false
   },
   "outputs": [],
   "source": [
    "Amp, length, p0, p1, p2 = p_init\n",
    "kernel = Amp*ExpSquaredKernel(length)\n",
    "gp = george.GP(kernel, mean=Mean(p0=p0, p1=p1, p2=p2), fit_mean = True) \n",
    "gp.compute(xbins, yerrs)\n",
    "\n",
    "data = (xbins, ycounts, yerrs)\n",
    "sampler = fit_gp_emcee(p_init, data)\n",
    "samples = sampler.flatchain\n",
    "\n",
    "meanGP, covGP = gp.predict(ycounts, xbins)"
   ]
  },
  {
   "cell_type": "code",
   "execution_count": null,
   "metadata": {
    "collapsed": false
   },
   "outputs": [],
   "source": [
    "sampleSet = np.empty([24, len(ycounts)])\n",
    "for si, s in enumerate(samples[np.random.randint(len(samples), size=24)]):\n",
    "    Amp, length, p0, p1, p2 = s\n",
    "    kernel = Amp*ExpSquaredKernel(length)\n",
    "    gp = george.GP(kernel, mean=Mean(p0=p0, p1=p1, p2=p2), fit_mean = True) \n",
    "    gp.compute(xbins, yerrs)\n",
    "    meanGP, covGP = gp.predict(ycounts, xbins)\n",
    "    print meanGP\n",
    "    sampleSet[si,:] = meanGP"
   ]
  },
  {
   "cell_type": "code",
   "execution_count": null,
   "metadata": {
    "collapsed": false
   },
   "outputs": [],
   "source": [
    "makePrettyPlots_samples(xbins, ycounts, sampleSet.tolist(), \"title\")"
   ]
  },
  {
   "cell_type": "markdown",
   "metadata": {},
   "source": [
    "### Try scipy"
   ]
  },
  {
   "cell_type": "markdown",
   "metadata": {},
   "source": [
    "#### Set up uniform priors on parameters - you can change this as you see fit. Use the built in method from george to get the log likelihood and gradient of the likelihood with respect to each parameter. set_vector sets the hyperparameters if they're changed from the initalization, but note set_vector/get_vector take in/return the log of the hyperparameters! "
   ]
  },
  {
   "cell_type": "code",
   "execution_count": null,
   "metadata": {
    "collapsed": false
   },
   "outputs": [],
   "source": [
    "def priors(params):\n",
    "    Amp, length, p0, p1, p2 = params\n",
    "    if 1e10 > Amp > 0 and 1e5 > length > 0 and 50 > p0 > 0 and 20 > p1 > -20 and 20 > p2 > -20: \n",
    "        return 0\n",
    "    else:\n",
    "        return np.inf\n",
    "\n",
    "        \n",
    "def logLike_scipy(params, y, x, xerr):\n",
    "    # Update the kernel parameters and compute the likelihood.\n",
    "    #gp.set_vector(np.log(params))\n",
    "    Amp, length, p0, p1, p2 = params\n",
    "    kernel = Amp*ExpSquaredKernel(length)\n",
    "    gp = george.GP(kernel, mean=Mean(p0=p0, p1=p1, p2=p2), fit_mean = True) \n",
    "    gp.compute(xbins, yerrs)\n",
    "    prior = priors(params)\n",
    "    return -gp.lnlikelihood(y) + prior if np.isfinite(prior) else 1e25\n",
    "    \n",
    "\n",
    "def grad_logLike_scipy(params, y, x, xerr):\n",
    "    # Update the kernel parameters and compute the likelihood.\n",
    "    #gp.set_vector(np.log(params))\n",
    "    Amp, length, p0, p1, p2 = params\n",
    "    kernel = Amp*ExpSquaredKernel(length)\n",
    "    gp = george.GP(kernel, mean=Mean(p0=p0, p1=p1, p2=p2), fit_mean = True) \n",
    "    gp.compute(xbins, yerrs)\n",
    "    grad_ll = gp.grad_lnlikelihood(y, quiet=True)\n",
    "    return -grad_ll\n",
    "\n",
    "        "
   ]
  },
  {
   "cell_type": "markdown",
   "metadata": {},
   "source": [
    "####  To start with george, you must always intialize a george.GP object with a kernel. You can also add in a mean function as we've done here, but if one is not specified its set to 0.  You can find more inforamtion about the different pre-made kernels, options for the GP object, mean functions, and how to build your own kernel at (ref). \n",
    "#### In our case, we want to use a fit function as our mean (otherwise the GP will be modeling fluctuations around 0!). We're using the 3 parameter dijet fit function. We also set the arguement fit_mean = True so that the mean function parameters will also be fit, along with the kernel hyperparameters\n",
    "#### Finally, you must always call gp.compute to precompute the covariance matrix at the independent coordinates before calling most other methods."
   ]
  },
  {
   "cell_type": "code",
   "execution_count": null,
   "metadata": {
    "collapsed": false
   },
   "outputs": [],
   "source": [
    "p_init = [5, 1e5, 1e-1, 5, -5]\n",
    "Amp, length, p0, p1, p2 = p_init\n",
    "\n",
    "kernel = Amp*ExpSquaredKernel(length)\n",
    "gp = george.GP(kernel, mean=Mean(p0=p0, p1=p1, p2=p2), fit_mean = True) \n",
    "\n",
    "print \"initial\", np.exp(gp.get_vector())\n",
    "\n",
    "gp.compute(xbins, yerrs)"
   ]
  },
  {
   "cell_type": "markdown",
   "metadata": {},
   "source": [
    "#### Then, pass your likelihood functions with you initial hyperparameter guesses and the data into scipy.optimize.minimize. This will return your best fit hyperparameters, which you can set in your kernel/mean functions with gp.set_vector. You can put bounds on the parameters (bounds = [(min, max), (min, max)..]). "
   ]
  },
  {
   "cell_type": "code",
   "execution_count": null,
   "metadata": {
    "collapsed": false
   },
   "outputs": [],
   "source": [
    "results = op.minimize(logLike_scipy, p_init, args = (ycounts, xbins, xerrs), jac=grad_logLike_scipy)\n",
    "print \"results\", results.x\n",
    "#gp.set_vector(np.log(results.x))"
   ]
  },
  {
   "cell_type": "markdown",
   "metadata": {},
   "source": [
    "#### Finally, call predict to get the mean and variance of the predictive distribution. This is what we use as our GP fit. Then make a pretty plot to see how well it did"
   ]
  },
  {
   "cell_type": "code",
   "execution_count": null,
   "metadata": {
    "collapsed": false
   },
   "outputs": [],
   "source": [
    "Amp, length, p0, p1, p2 = results.x\n",
    "kernel = Amp*ExpSquaredKernel(length)\n",
    "gp = george.GP(kernel, mean=Mean(p0=p0, p1=p1, p2=p2), fit_mean = True) \n",
    "gp.compute(xbins, yerrs)\n",
    "meanGP, covGP = gp.predict(ycounts, xbins) \n",
    "makePrettyPlots(xbins, ycounts, meanGP, \"Gaussian Process Fit\")"
   ]
  },
  {
   "cell_type": "markdown",
   "metadata": {},
   "source": [
    "#### Use 3 parameter fit function as mean"
   ]
  },
  {
   "cell_type": "code",
   "execution_count": null,
   "metadata": {
    "collapsed": true
   },
   "outputs": [],
   "source": [
    "def mean_function(params, t, xerr): \n",
    "    p0, p1, p2 = params\n",
    "    #print p0, p1, p2\n",
    "    sqrts = 13000.\n",
    "    return (p0 * (1.-t/sqrts)**p1 * (t/sqrts)**(p2))*xerr"
   ]
  },
  {
   "cell_type": "code",
   "execution_count": null,
   "metadata": {
    "collapsed": true
   },
   "outputs": [],
   "source": [
    "class logLike_3ff:\n",
    "    def __init__(self, x, y, xe):\n",
    "        self.x = x\n",
    "        self.y = y\n",
    "        self.xe = xe\n",
    "    def __call__(self, p0, p1, p2):\n",
    "        params = p0, p1, p2\n",
    "        bkgFunc = mean_function(params, self.x, self.xe)       \n",
    "        logL = 0\n",
    "        for ibin in range(len(self.y)):\n",
    "            data = self.y[ibin]\n",
    "            bkg = bkgFunc[ibin]\n",
    "            logL += -simpleLogPoisson(data, bkg)\n",
    "        try:\n",
    "            logL\n",
    "            return logL\n",
    "        except:\n",
    "            return np.inf\n",
    "\n",
    "def fit_3ff(lnprob, Print = True):\n",
    "    minLLH = np.inf\n",
    "    best_fit_params = (0., 0., 0.)\n",
    "    passedFit = False\n",
    "    numRetries = 0\n",
    "    while not passedFit and numRetries < 10:\n",
    "        init0 = np.random.random() * 1.\n",
    "        init1 = np.random.random() * 8.\n",
    "        init2 = np.random.random() * -6.\n",
    "        m = Minuit(lnprob, throw_nan = False, pedantic = False, print_level = 0, errordef = 0.5,\n",
    "                  p0 = init0, p1 = init1, p2 = init2,\n",
    "                  error_p0 = 1e-2, error_p1 = 1e-2, error_p2 = 1e-2, \n",
    "                  limit_p0 = (0, 20.), limit_p1 = (-20., 20.), limit_p2 = (-20., 20.))\n",
    "        fit = m.migrad()\n",
    "        if fit[0]['is_valid']: \n",
    "            passedFit=True\n",
    "        if m.fval < minLLH:\n",
    "            minLLH = m.fval\n",
    "            best_fit_params = m.args     \n",
    "            \n",
    "        if numRetries == 9: \n",
    "            print \"retry number = \", 10, \": failed fits\", lnprob.__class__.__name__\n",
    "            minLLH=np.inf\n",
    "            best_fit_params=(0, 0, 0)\n",
    "        numRetries+=1 \n",
    "\n",
    "    if Print:\n",
    "        print \"min LL\", minLLH\n",
    "        print \"best fit vals\", best_fit_params\n",
    "    return minLLH, best_fit_params\n",
    "def simpleLogPoisson(x, par):\n",
    "    if x < 0: \n",
    "        return np.inf\n",
    "    elif (x == 0): return -1.*par\n",
    "    else:\n",
    "        lnpoisson = x*np.log(par)-par-ssp.gammaln(x+1.) \n",
    "        return lnpoisson"
   ]
  },
  {
   "cell_type": "code",
   "execution_count": null,
   "metadata": {
    "collapsed": false
   },
   "outputs": [],
   "source": [
    "lnProb = logLike_3ff(xbins, ycounts ,xerrs)\n",
    "ll_b3, best_fit_params = fit_3ff(lnProb, False)\n",
    "print best_fit_params"
   ]
  },
  {
   "cell_type": "code",
   "execution_count": null,
   "metadata": {
    "collapsed": true
   },
   "outputs": [],
   "source": []
  }
 ],
 "metadata": {
  "anaconda-cloud": {},
  "kernelspec": {
   "display_name": "Python [Root]",
   "language": "python",
   "name": "Python [Root]"
  },
  "language_info": {
   "codemirror_mode": {
    "name": "ipython",
    "version": 2
   },
   "file_extension": ".py",
   "mimetype": "text/x-python",
   "name": "python",
   "nbconvert_exporter": "python",
   "pygments_lexer": "ipython2",
   "version": "2.7.12"
  }
 },
 "nbformat": 4,
 "nbformat_minor": 0
}
